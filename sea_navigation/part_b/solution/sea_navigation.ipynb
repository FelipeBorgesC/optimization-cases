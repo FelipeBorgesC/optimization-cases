{
 "nbformat": 4,
 "nbformat_minor": 0,
 "metadata": {
  "colab": {
   "provenance": []
  },
  "kernelspec": {
   "name": "python3",
   "language": "python",
   "display_name": "Python 3 (ipykernel)"
  },
  "language_info": {
   "name": "python"
  }
 },
 "cells": [
  {
   "cell_type": "markdown",
   "source": [
    "## Sea Navigation"
   ],
   "metadata": {
    "id": "Ere0SGGnxft0"
   }
  },
  {
   "cell_type": "code",
   "execution_count": 1,
   "metadata": {
    "id": "tD6R7I5axcI5",
    "ExecuteTime": {
     "end_time": "2024-03-20T22:48:55.291985500Z",
     "start_time": "2024-03-20T22:48:52.717735400Z"
    }
   },
   "outputs": [
    {
     "name": "stderr",
     "output_type": "stream",
     "text": [
      "C:\\Users\\borges\\AppData\\Local\\Temp\\ipykernel_15392\\497218920.py:1: DeprecationWarning: \n",
      "Pyarrow will become a required dependency of pandas in the next major release of pandas (pandas 3.0),\n",
      "(to allow more performant data types, such as the Arrow string type, and better interoperability with other libraries)\n",
      "but was not found to be installed on your system.\n",
      "If this would cause problems for you,\n",
      "please provide us feedback at https://github.com/pandas-dev/pandas/issues/54466\n",
      "        \n",
      "  import pandas as pd\n"
     ]
    }
   ],
   "source": [
    "import pandas as pd\n",
    "import math\n",
    "from deap import base\n",
    "from deap import creator\n",
    "from deap import tools\n",
    "from deap import algorithms\n",
    "import numpy\n",
    "import random\n",
    "import copy\n",
    "import matplotlib.pyplot as plt"
   ]
  },
  {
   "cell_type": "code",
   "source": [
    "data_points = pd.read_csv('../sea_navigation.csv')\n",
    "data_points.head()"
   ],
   "metadata": {
    "colab": {
     "base_uri": "https://localhost:8080/",
     "height": 206
    },
    "id": "QAyblZuQxeD9",
    "outputId": "c3684e67-9e08-4488-9c5d-1f671bb3e17e",
    "ExecuteTime": {
     "end_time": "2024-03-20T22:49:00.095408400Z",
     "start_time": "2024-03-20T22:49:00.036412700Z"
    }
   },
   "execution_count": 2,
   "outputs": [
    {
     "data": {
      "text/plain": "    x   y\n0  10   0\n1  20  10\n2  20  20\n3  40  30\n4  40  80",
      "text/html": "<div>\n<style scoped>\n    .dataframe tbody tr th:only-of-type {\n        vertical-align: middle;\n    }\n\n    .dataframe tbody tr th {\n        vertical-align: top;\n    }\n\n    .dataframe thead th {\n        text-align: right;\n    }\n</style>\n<table border=\"1\" class=\"dataframe\">\n  <thead>\n    <tr style=\"text-align: right;\">\n      <th></th>\n      <th>x</th>\n      <th>y</th>\n    </tr>\n  </thead>\n  <tbody>\n    <tr>\n      <th>0</th>\n      <td>10</td>\n      <td>0</td>\n    </tr>\n    <tr>\n      <th>1</th>\n      <td>20</td>\n      <td>10</td>\n    </tr>\n    <tr>\n      <th>2</th>\n      <td>20</td>\n      <td>20</td>\n    </tr>\n    <tr>\n      <th>3</th>\n      <td>40</td>\n      <td>30</td>\n    </tr>\n    <tr>\n      <th>4</th>\n      <td>40</td>\n      <td>80</td>\n    </tr>\n  </tbody>\n</table>\n</div>"
     },
     "execution_count": 2,
     "metadata": {},
     "output_type": "execute_result"
    }
   ]
  },
  {
   "cell_type": "code",
   "source": [
    "data_points_list = data_points.values.tolist()\n",
    "data_points_list"
   ],
   "metadata": {
    "colab": {
     "base_uri": "https://localhost:8080/"
    },
    "id": "c4l8c3hcyEPF",
    "outputId": "982de4c7-638b-453e-e11b-47d09a48941a",
    "ExecuteTime": {
     "end_time": "2024-03-20T22:49:07.207438300Z",
     "start_time": "2024-03-20T22:49:07.171430800Z"
    }
   },
   "execution_count": 3,
   "outputs": [
    {
     "data": {
      "text/plain": "[[10, 0],\n [20, 10],\n [20, 20],\n [40, 30],\n [40, 80],\n [90, 50],\n [80, 40],\n [30, 80],\n [80, 60],\n [50, 80],\n [80, 100],\n [70, 20],\n [30, 50],\n [50, 60],\n [80, 50],\n [100, 50]]"
     },
     "execution_count": 3,
     "metadata": {},
     "output_type": "execute_result"
    }
   ]
  },
  {
   "cell_type": "code",
   "source": [
    "len(data_points)"
   ],
   "metadata": {
    "colab": {
     "base_uri": "https://localhost:8080/"
    },
    "id": "-9Bty7xazIMP",
    "outputId": "ef086ae2-8d5f-4aa7-93c1-af2001606cbe",
    "ExecuteTime": {
     "end_time": "2024-03-20T22:49:10.253471400Z",
     "start_time": "2024-03-20T22:49:10.215094200Z"
    }
   },
   "execution_count": 4,
   "outputs": [
    {
     "data": {
      "text/plain": "16"
     },
     "execution_count": 4,
     "metadata": {},
     "output_type": "execute_result"
    }
   ]
  },
  {
   "cell_type": "code",
   "execution_count": 13,
   "outputs": [
    {
     "data": {
      "text/plain": "   island_x_bottom_right  island_y_bottom_right  island_x_bottom_left  \\\n0                     38                     34                    35   \n\n   island_y_bottom_left  island_x_top_left  island_y_top_left  \\\n0                    42                 39                 70   \n\n   island_x_top_right  island_y_top_right  \n0                  44                  58  ",
      "text/html": "<div>\n<style scoped>\n    .dataframe tbody tr th:only-of-type {\n        vertical-align: middle;\n    }\n\n    .dataframe tbody tr th {\n        vertical-align: top;\n    }\n\n    .dataframe thead th {\n        text-align: right;\n    }\n</style>\n<table border=\"1\" class=\"dataframe\">\n  <thead>\n    <tr style=\"text-align: right;\">\n      <th></th>\n      <th>island_x_bottom_right</th>\n      <th>island_y_bottom_right</th>\n      <th>island_x_bottom_left</th>\n      <th>island_y_bottom_left</th>\n      <th>island_x_top_left</th>\n      <th>island_y_top_left</th>\n      <th>island_x_top_right</th>\n      <th>island_y_top_right</th>\n    </tr>\n  </thead>\n  <tbody>\n    <tr>\n      <th>0</th>\n      <td>38</td>\n      <td>34</td>\n      <td>35</td>\n      <td>42</td>\n      <td>39</td>\n      <td>70</td>\n      <td>44</td>\n      <td>58</td>\n    </tr>\n  </tbody>\n</table>\n</div>"
     },
     "execution_count": 13,
     "metadata": {},
     "output_type": "execute_result"
    }
   ],
   "source": [
    "island_points = pd.read_csv('../island.csv')\n",
    "island_points.head(10)"
   ],
   "metadata": {
    "collapsed": false,
    "ExecuteTime": {
     "end_time": "2024-03-20T23:07:56.620028200Z",
     "start_time": "2024-03-20T23:07:56.573031900Z"
    }
   }
  },
  {
   "cell_type": "markdown",
   "source": [
    "### Objective Functions"
   ],
   "metadata": {
    "id": "TiykPH1kyr5z"
   }
  },
  {
   "cell_type": "code",
   "source": [
    "def calculate_distance(origin_city, destiny_city):\n",
    "  X1 = origin_city[0]\n",
    "  Y1 = origin_city[1]\n",
    "  X2 = destiny_city[0]\n",
    "  Y2 = destiny_city[1]\n",
    "  return math.sqrt(((X1-X2)**2) + (Y1-Y2)**2)"
   ],
   "metadata": {
    "id": "VVa7xr9ew7D4",
    "ExecuteTime": {
     "end_time": "2024-03-20T22:58:38.264547800Z",
     "start_time": "2024-03-20T22:58:38.240420700Z"
    }
   },
   "execution_count": 9,
   "outputs": []
  },
  {
   "cell_type": "code",
   "source": [
    "def distance_travelled(individual_original):\n",
    "\n",
    "  individual = copy.deepcopy(individual_original)\n",
    "  individual.append(individual[0])\n",
    "  total_distance = 0\n",
    "\n",
    "  for index, city_number in enumerate(individual):\n",
    "    origin_city_points = data_points_list[city_number]\n",
    "    destiny_city_points = data_points_list[individual[index+1]]\n",
    "    total_distance += calculate_distance(origin_city_points, destiny_city_points)\n",
    "\n",
    "    if index == len(individual) - 2:\n",
    "      break\n",
    "\n",
    "  return total_distance,"
   ],
   "metadata": {
    "id": "FN9EbpxDxeIJ",
    "ExecuteTime": {
     "end_time": "2024-03-20T22:58:39.186275100Z",
     "start_time": "2024-03-20T22:58:39.160019300Z"
    }
   },
   "execution_count": 10,
   "outputs": []
  },
  {
   "cell_type": "code",
   "source": [
    "distance_travelled([0,1,2,13,15,9,7,11,10,8,6,14,12,3,4,5])"
   ],
   "metadata": {
    "colab": {
     "base_uri": "https://localhost:8080/"
    },
    "id": "fgmd7SyP0SB7",
    "outputId": "d7821616-a5e2-4156-e9a5-da3d52481aab",
    "ExecuteTime": {
     "end_time": "2024-03-20T22:58:42.176992200Z",
     "start_time": "2024-03-20T22:58:42.153080800Z"
    }
   },
   "execution_count": 11,
   "outputs": [
    {
     "data": {
      "text/plain": "(701.185462744394,)"
     },
     "execution_count": 11,
     "metadata": {},
     "output_type": "execute_result"
    }
   ]
  },
  {
   "cell_type": "markdown",
   "source": [
    "## Restrictions"
   ],
   "metadata": {
    "id": "3D98A4UWywFV"
   }
  },
  {
   "cell_type": "code",
   "source": [
    "def west_forbidden(individual_original):\n",
    "\n",
    "  individual = copy.deepcopy(individual_original)\n",
    "  individual.append(individual[0])\n",
    "\n",
    "  for index, city_number in enumerate(individual):\n",
    "    origin_city_points = data_points_list[city_number]\n",
    "    destiny_city_points = data_points_list[individual[index+1]]\n",
    "\n",
    "    if index == len(individual) - 2:\n",
    "      break\n",
    "    \n",
    "    if origin_city_points[0] > destiny_city_points[0] and origin_city_points[1] == destiny_city_points[1]:\n",
    "      return False  #feasible individual\n",
    "  return True  #unfeasible individual"
   ],
   "metadata": {
    "id": "ANaYet9cxeKF",
    "ExecuteTime": {
     "end_time": "2024-03-21T15:39:39.656934400Z",
     "start_time": "2024-03-21T15:39:39.631960Z"
    }
   },
   "execution_count": 143,
   "outputs": []
  },
  {
   "cell_type": "code",
   "execution_count": 144,
   "outputs": [],
   "source": [
    "def check_points(A, B, C):\n",
    "    return (C['y']-A['y']) * (B['x']-A['x']) > (B['y']-A['y']) * (C['x']-A['x'])\n",
    "\n",
    "def check_intersection(pointA, pointB, pointC, pointD):\n",
    "    return check_points(pointA, pointC, pointD) != check_points(pointB, pointC, pointD) and \\\n",
    "            check_points(pointA, pointB, pointC) != check_points(pointA, pointB, pointD)"
   ],
   "metadata": {
    "collapsed": false,
    "ExecuteTime": {
     "end_time": "2024-03-21T15:39:41.303030300Z",
     "start_time": "2024-03-21T15:39:41.269975200Z"
    }
   }
  },
  {
   "cell_type": "code",
   "execution_count": 145,
   "outputs": [
    {
     "data": {
      "text/plain": "True"
     },
     "execution_count": 145,
     "metadata": {},
     "output_type": "execute_result"
    }
   ],
   "source": [
    "island_bottom_left = {'x': island_points.loc[0,'island_x_bottom_left'], 'y': island_points.loc[0,'island_y_bottom_left']}\n",
    "island_top_left = {'x': island_points.loc[0,'island_x_top_left'], 'y': island_points.loc[0,'island_y_top_left']}\n",
    "delivery_pointA = {'x': data_points_list[12][0], 'y': data_points_list[12][1]}\n",
    "delivery_pointB = {'x': data_points_list[13][0], 'y': data_points_list[13][1]}\n",
    "check_intersection(island_bottom_left, island_top_left, delivery_pointA, delivery_pointB)"
   ],
   "metadata": {
    "collapsed": false,
    "ExecuteTime": {
     "end_time": "2024-03-21T15:39:41.564070400Z",
     "start_time": "2024-03-21T15:39:41.527035Z"
    }
   }
  },
  {
   "cell_type": "code",
   "execution_count": 146,
   "outputs": [],
   "source": [
    "def island_pass_through(individual_original):\n",
    "    island_bottom_left = {'x': island_points.loc[0,'island_x_bottom_left'], 'y': island_points.loc[0,'island_y_bottom_left']}\n",
    "    island_bottom_right = {'x': island_points.loc[0,'island_x_bottom_right'], 'y': island_points.loc[0,'island_y_bottom_right']}\n",
    "    island_top_left = {'x': island_points.loc[0,'island_x_top_left'], 'y': island_points.loc[0,'island_y_top_left']}\n",
    "    island_top_right = {'x': island_points.loc[0,'island_x_top_right'], 'y': island_points.loc[0,'island_y_top_right']}\n",
    "    island_points_list = [island_bottom_left, island_top_left, island_top_right, island_bottom_right, island_bottom_left]\n",
    "    \n",
    "    individual = copy.deepcopy(individual_original)\n",
    "    individual.append(individual[0])\n",
    "    \n",
    "    for index, city_number in enumerate(individual):\n",
    "        if index == len(individual) - 1:\n",
    "            break\n",
    "        origin_city_points = {'x': data_points_list[city_number][0], 'y': data_points_list[city_number][1]} \n",
    "        destiny_city_points = {'x': data_points_list[individual[index+1]][0], 'y': data_points_list[individual[index+1]][1]}\n",
    "        \n",
    "        for island_index in range(len(island_points_list)-1):\n",
    "            island_segment_point_a = island_points_list[island_index]\n",
    "            island_segment_point_b = island_points_list[island_index+1]\n",
    "            \n",
    "            if check_intersection(island_segment_point_a, island_segment_point_b,\n",
    "                                  origin_city_points, destiny_city_points):\n",
    "                return False  # has intersection so unfeasible individual\n",
    "    \n",
    "    return True  # no intersection so feasible individual"
   ],
   "metadata": {
    "collapsed": false,
    "ExecuteTime": {
     "end_time": "2024-03-21T15:39:41.751528400Z",
     "start_time": "2024-03-21T15:39:41.732513900Z"
    }
   }
  },
  {
   "cell_type": "code",
   "execution_count": 147,
   "outputs": [
    {
     "data": {
      "text/plain": "True"
     },
     "execution_count": 147,
     "metadata": {},
     "output_type": "execute_result"
    }
   ],
   "source": [
    "island_pass_through([0,1,2,3,11,6,14,5,15,8,10,9,13,4,7,12])"
   ],
   "metadata": {
    "collapsed": false,
    "ExecuteTime": {
     "end_time": "2024-03-21T15:39:42.292055100Z",
     "start_time": "2024-03-21T15:39:42.252058500Z"
    }
   }
  },
  {
   "cell_type": "code",
   "execution_count": 148,
   "outputs": [
    {
     "data": {
      "text/plain": "False"
     },
     "execution_count": 148,
     "metadata": {},
     "output_type": "execute_result"
    }
   ],
   "source": [
    "island_pass_through([0,1,2,3,4,6,14,5,15,8,10,9,13,11,7,12])"
   ],
   "metadata": {
    "collapsed": false,
    "ExecuteTime": {
     "end_time": "2024-03-21T15:39:42.725501300Z",
     "start_time": "2024-03-21T15:39:42.698504200Z"
    }
   }
  },
  {
   "cell_type": "code",
   "execution_count": 163,
   "outputs": [],
   "source": [
    "def constraints_manager(individual_original):\n",
    "    if west_forbidden(individual_original) and island_pass_through(individual_original):\n",
    "        return True  #feasible individual\n",
    "    return False  #unfeasible individual"
   ],
   "metadata": {
    "collapsed": false,
    "ExecuteTime": {
     "end_time": "2024-03-21T15:49:53.199551300Z",
     "start_time": "2024-03-21T15:49:53.176542600Z"
    }
   }
  },
  {
   "cell_type": "code",
   "source": [
    "constraints_manager([0,1,2,3,4,13,6,7,8,9,10,11,12,5,14,15])"
   ],
   "metadata": {
    "colab": {
     "base_uri": "https://localhost:8080/"
    },
    "id": "ngdJDOwHxeL3",
    "outputId": "d760dc3b-2fac-4d31-f925-99be5b377fc5",
    "ExecuteTime": {
     "end_time": "2024-03-21T15:49:53.455843200Z",
     "start_time": "2024-03-21T15:49:53.431537200Z"
    }
   },
   "execution_count": 164,
   "outputs": [
    {
     "data": {
      "text/plain": "False"
     },
     "execution_count": 164,
     "metadata": {},
     "output_type": "execute_result"
    }
   ]
  },
  {
   "cell_type": "code",
   "execution_count": 179,
   "outputs": [
    {
     "data": {
      "text/plain": "(True, True, True)"
     },
     "execution_count": 179,
     "metadata": {},
     "output_type": "execute_result"
    }
   ],
   "source": [
    "constraints_manager([4,13]), west_forbidden([4,13]), island_pass_through([4,13])"
   ],
   "metadata": {
    "collapsed": false,
    "ExecuteTime": {
     "end_time": "2024-03-21T15:54:00.783322600Z",
     "start_time": "2024-03-21T15:54:00.739321500Z"
    }
   }
  },
  {
   "cell_type": "code",
   "source": [
    "def west_penalty(individual_original):\n",
    "\n",
    "  west_penalty = 0\n",
    "  individual = copy.deepcopy(individual_original)\n",
    "  individual.append(individual[0])\n",
    "\n",
    "  for index, city_number in enumerate(individual):\n",
    "    origin_city_points = data_points_list[city_number]\n",
    "    destiny_city_points = data_points_list[individual[index+1]]\n",
    "\n",
    "    if constraints_manager([city_number, individual[index+1]]):\n",
    "      west_penalty += (calculate_distance(origin_city_points, destiny_city_points)) ** 2\n",
    "    else:\n",
    "      west_penalty += calculate_distance(origin_city_points, destiny_city_points)\n",
    "\n",
    "    if index == len(individual) - 2:\n",
    "      break\n",
    "\n",
    "  return west_penalty"
   ],
   "metadata": {
    "id": "tlj66rQU14ED",
    "ExecuteTime": {
     "end_time": "2024-03-21T15:49:53.755878900Z",
     "start_time": "2024-03-21T15:49:53.738853600Z"
    }
   },
   "execution_count": 166,
   "outputs": []
  },
  {
   "cell_type": "code",
   "source": [
    "west_penalty([0,1,2,3,4,13,6,7,8,9,10,11,12,5,14,15])"
   ],
   "metadata": {
    "colab": {
     "base_uri": "https://localhost:8080/"
    },
    "id": "Imagbg-32z_S",
    "outputId": "08625c6a-932c-4d43-9804-46571bb06b5d",
    "ExecuteTime": {
     "end_time": "2024-03-21T15:51:04.384725400Z",
     "start_time": "2024-03-21T15:51:04.371725800Z"
    }
   },
   "execution_count": 168,
   "outputs": [
    {
     "data": {
      "text/plain": "29870.0"
     },
     "execution_count": 168,
     "metadata": {},
     "output_type": "execute_result"
    }
   ]
  },
  {
   "cell_type": "markdown",
   "source": [
    "## DEAP Optimization Methods"
   ],
   "metadata": {
    "id": "fk2J-Gxly1iL"
   }
  },
  {
   "cell_type": "code",
   "source": [
    "import copy\n",
    "import random\n",
    "\n",
    "def uniform_based_order(individual_1, individual_2, shuffle_size=5):\n",
    "    \"\"\"\n",
    "    uniform based order crossover\n",
    "\n",
    "    :param individual_1:\n",
    "    :param individual_2:\n",
    "    :param shuffle_size:\n",
    "    :return: two children\n",
    "    \"\"\"\n",
    "\n",
    "    child_1 = copy.deepcopy(individual_1)\n",
    "    child_2 = copy.deepcopy(individual_2)\n",
    "\n",
    "    size = min(len(child_1), len(child_2))\n",
    "    if size < shuffle_size:\n",
    "        shuffle_size = size - 1\n",
    "\n",
    "    index = [*range(size)]\n",
    "    bit_mask = set(random.sample(index, shuffle_size))\n",
    "\n",
    "    shuffle_1 = [individual_1[idx] for idx in bit_mask]\n",
    "    shuffle_2 = [individual_2[idx] for idx in bit_mask]\n",
    "\n",
    "    inv_bit_mask = set(index) - bit_mask\n",
    "\n",
    "    parent1 = [individual_1[i] for i in inv_bit_mask]\n",
    "    parent2 = [individual_2[i] for i in inv_bit_mask]\n",
    "\n",
    "    order_shuffle_1 = set(shuffle_1)\n",
    "    order_shuffle_2 = set(shuffle_2)\n",
    "\n",
    "    can_shuffle = order_shuffle_1 & order_shuffle_2\n",
    "    remain_shuffle = order_shuffle_1 ^ order_shuffle_2\n",
    "\n",
    "    # create order from data\n",
    "    order_shuffle_1 = [x for x in shuffle_1 if x in can_shuffle]\n",
    "    order_shuffle_2 = [x for x in shuffle_2 if x in can_shuffle]\n",
    "\n",
    "    parent1 = [x for x in parent1 if x in remain_shuffle]\n",
    "    parent2 = [x for x in parent2 if x in remain_shuffle]\n",
    "\n",
    "    order_shuffle_1 += parent1\n",
    "    order_shuffle_2 += parent2\n",
    "\n",
    "    i = 0\n",
    "    for idx in bit_mask:\n",
    "        child_1[idx] = order_shuffle_2[i]\n",
    "        child_2[idx] = order_shuffle_1[i]\n",
    "        i += 1\n",
    "\n",
    "    return child_1, child_2"
   ],
   "metadata": {
    "id": "jrwH6oqwXpe8",
    "ExecuteTime": {
     "end_time": "2024-03-21T15:51:05.383389300Z",
     "start_time": "2024-03-21T15:51:05.355884800Z"
    }
   },
   "execution_count": 169,
   "outputs": []
  },
  {
   "cell_type": "code",
   "source": [
    "creator.create(\"FitnessMin\", base.Fitness, weights=(-1.0,))\n",
    "creator.create(\"Individual\", list, fitness=creator.FitnessMin)"
   ],
   "metadata": {
    "colab": {
     "base_uri": "https://localhost:8080/"
    },
    "id": "RtMAuo-CxeRN",
    "outputId": "ca603f57-20d0-425b-c6f5-4c98aa9ecdbc",
    "ExecuteTime": {
     "end_time": "2024-03-21T15:51:05.620696800Z",
     "start_time": "2024-03-21T15:51:05.600698400Z"
    }
   },
   "execution_count": 170,
   "outputs": [
    {
     "name": "stderr",
     "output_type": "stream",
     "text": [
      "C:\\Users\\borges\\AppData\\Local\\Programs\\Python\\optimization_cases\\lib\\site-packages\\deap\\creator.py:185: RuntimeWarning: A class named 'FitnessMin' has already been created and it will be overwritten. Consider deleting previous creation of that class or rename it.\n",
      "  warnings.warn(\"A class named '{0}' has already been created and it \"\n",
      "C:\\Users\\borges\\AppData\\Local\\Programs\\Python\\optimization_cases\\lib\\site-packages\\deap\\creator.py:185: RuntimeWarning: A class named 'Individual' has already been created and it will be overwritten. Consider deleting previous creation of that class or rename it.\n",
      "  warnings.warn(\"A class named '{0}' has already been created and it \"\n"
     ]
    }
   ]
  },
  {
   "cell_type": "code",
   "source": [
    "toolbox = base.Toolbox()\n",
    "toolbox.register(\"random_unique_int\", random.sample, range(0,len(data_points)), len(data_points))\n",
    "toolbox.register(\"individual\", tools.initIterate, creator.Individual, toolbox.random_unique_int)\n",
    "toolbox.register(\"population\", tools.initRepeat, list, toolbox.individual)\n",
    "toolbox.register(\"evaluate\", distance_travelled)\n",
    "toolbox.decorate(\"evaluate\", tools.DeltaPenalty(constraints_manager, 1, west_penalty))\n",
    "\n",
    "toolbox.register(\"mate\", tools.cxOrdered)\n",
    "toolbox.register(\"mutate\", tools.mutShuffleIndexes, indpb=0.3)\n",
    "toolbox.register(\"select\", tools.selTournament, tournsize=4)"
   ],
   "metadata": {
    "id": "YZaNbYLZy-ei",
    "ExecuteTime": {
     "end_time": "2024-03-21T15:51:05.824639100Z",
     "start_time": "2024-03-21T15:51:05.793696100Z"
    }
   },
   "execution_count": 171,
   "outputs": []
  },
  {
   "cell_type": "code",
   "source": [
    "pop = toolbox.population(n=500)\n",
    "hof = tools.HallOfFame(1)\n",
    "stats = tools.Statistics(lambda ind: ind.fitness.values)\n",
    "stats.register(\"avg\", numpy.mean)\n",
    "stats.register(\"std\", numpy.std)\n",
    "stats.register(\"min\", numpy.min)\n",
    "stats.register(\"max\", numpy.max)"
   ],
   "metadata": {
    "id": "z7lOXbRNzqgq",
    "ExecuteTime": {
     "end_time": "2024-03-21T15:51:06.020731300Z",
     "start_time": "2024-03-21T15:51:05.988719300Z"
    }
   },
   "execution_count": 172,
   "outputs": []
  },
  {
   "cell_type": "code",
   "source": [
    "pop, log = algorithms.eaSimple(pop, toolbox, cxpb=0.9, mutpb=0.3, ngen=250, stats=stats, halloffame=hof, verbose=True)"
   ],
   "metadata": {
    "colab": {
     "base_uri": "https://localhost:8080/"
    },
    "id": "cGfI4QaVzu59",
    "outputId": "e9a728ff-62e4-418b-d95c-6d2c653d4a0f",
    "ExecuteTime": {
     "end_time": "2024-03-21T15:52:52.782752900Z",
     "start_time": "2024-03-21T15:51:06.939830700Z"
    }
   },
   "execution_count": 173,
   "outputs": [
    {
     "name": "stdout",
     "output_type": "stream",
     "text": [
      "gen\tnevals\tavg    \tstd    \tmin    \tmax    \n",
      "0  \t500   \t36496.6\t8797.58\t590.818\t59284.4\n",
      "1  \t458   \t32148.1\t8503.05\t681.944\t57920.2\n",
      "2  \t462   \t29719.4\t8647.29\t681.944\t57873.1\n",
      "3  \t460   \t28226.8\t8677.13\t611.433\t54271.7\n",
      "4  \t470   \t27269.5\t9299.9 \t595.147\t57609.3\n",
      "5  \t444   \t26205.8\t9706.77\t595.147\t57911  \n",
      "6  \t473   \t25322.2\t9717.6 \t476.725\t54524.1\n",
      "7  \t463   \t25938.2\t10070.3\t476.725\t60061  \n",
      "8  \t448   \t23970.4\t9655.21\t569.668\t54932  \n",
      "9  \t459   \t23599.7\t10691.1\t457.372\t54423.4\n",
      "10 \t482   \t23243  \t11042.2\t472.202\t56751  \n",
      "11 \t470   \t22181.6\t9807.73\t531.072\t50211  \n",
      "12 \t456   \t22566.6\t10314.4\t531.072\t54711  \n",
      "13 \t458   \t23564.5\t10820.6\t531.072\t57571  \n",
      "14 \t470   \t24104.6\t10135.6\t508.28 \t56271.7\n",
      "15 \t466   \t22856.6\t9869.2 \t531.072\t60071.7\n",
      "16 \t465   \t23809  \t10023.6\t528.047\t60867.1\n",
      "17 \t462   \t22707.1\t9967.21\t516.57 \t52594.1\n",
      "18 \t467   \t23438.1\t10558.1\t521.211\t55595.5\n",
      "19 \t451   \t22097.1\t10323.9\t482.788\t51151  \n",
      "20 \t471   \t22267  \t10442  \t475.486\t57161.2\n",
      "21 \t461   \t22245.9\t10808.5\t447.931\t61461  \n",
      "22 \t465   \t20614.7\t10759.6\t475.486\t57234.1\n",
      "23 \t477   \t20727.1\t11176  \t455.832\t53402  \n",
      "24 \t472   \t21363.7\t12329.5\t451.683\t52207.8\n",
      "25 \t465   \t21208.4\t12298.7\t441.067\t56852  \n",
      "26 \t465   \t21378.4\t13020.9\t468.545\t53737.1\n",
      "27 \t468   \t21049.7\t13788.2\t431.979\t53667.5\n",
      "28 \t470   \t20135.3\t14033.9\t433.09 \t51595.4\n",
      "29 \t447   \t18714.4\t15143.7\t409.51 \t54551  \n",
      "30 \t468   \t18242.8\t15019.7\t409.51 \t59073.4\n",
      "31 \t473   \t16669  \t15160.5\t406.319\t55022  \n",
      "32 \t466   \t15398.3\t14973.3\t415.628\t59503  \n",
      "33 \t459   \t16444.9\t15345.2\t409.51 \t57661  \n",
      "34 \t472   \t15388.8\t14940.7\t379.836\t52010.2\n",
      "35 \t466   \t15323.2\t15362.4\t409.51 \t53312  \n",
      "36 \t469   \t16000.1\t15502.7\t379.836\t56673.4\n",
      "37 \t476   \t16662.6\t15404.5\t400.748\t51500.2\n",
      "38 \t474   \t14208.5\t14528.1\t379.836\t56181.7\n",
      "39 \t478   \t15357.2\t15079.9\t379.836\t56455.5\n",
      "40 \t466   \t13632.3\t15161  \t383.781\t54331  \n",
      "41 \t464   \t13496.9\t14910.4\t361.17 \t56774.4\n",
      "42 \t464   \t13230.6\t15142.6\t361.17 \t57751  \n",
      "43 \t465   \t12581  \t14857.2\t362.754\t54273.1\n",
      "44 \t469   \t13509.6\t14755.6\t362.754\t66723.4\n",
      "45 \t469   \t13051.8\t14825.6\t362.754\t52052  \n",
      "46 \t462   \t11221.7\t14261.7\t361.17 \t54253.4\n",
      "47 \t467   \t11040.4\t14045.6\t361.17 \t54207.8\n",
      "48 \t459   \t11714.1\t14914.6\t361.17 \t54002  \n",
      "49 \t445   \t11977.6\t15174  \t361.17 \t50673.4\n",
      "50 \t467   \t11569.2\t14452.5\t361.17 \t52252  \n",
      "51 \t458   \t10700.2\t14322.2\t361.17 \t52526.5\n",
      "52 \t449   \t10291.7\t14374.9\t361.17 \t52427.2\n",
      "53 \t454   \t10689  \t14607.3\t361.17 \t53588  \n",
      "54 \t475   \t10535.4\t14565  \t361.17 \t58331.5\n",
      "55 \t467   \t10566  \t14380.3\t361.17 \t57202  \n",
      "56 \t461   \t9605.3 \t13960.5\t361.17 \t57871.7\n",
      "57 \t473   \t10584.5\t14517.1\t361.17 \t53169.3\n",
      "58 \t468   \t9050.37\t13475.5\t361.17 \t55061  \n",
      "59 \t453   \t8872.19\t13484.2\t361.17 \t53273.4\n",
      "60 \t468   \t10143.1\t14226.3\t361.17 \t52469.2\n",
      "61 \t448   \t9183.63\t13988.7\t361.17 \t49569.3\n",
      "62 \t474   \t9300.3 \t14485  \t361.17 \t53421.7\n",
      "63 \t478   \t8563.93\t14345.9\t361.17 \t47673.4\n",
      "64 \t458   \t8330.36\t14171.5\t361.17 \t58524.1\n",
      "65 \t470   \t8462.16\t13943.6\t361.17 \t49752  \n",
      "66 \t465   \t9521.66\t14958.3\t361.17 \t54887.1\n",
      "67 \t473   \t8615.36\t13996.8\t361.17 \t54468.1\n",
      "68 \t472   \t8947.44\t14055.5\t361.17 \t50994.1\n",
      "69 \t472   \t9360.09\t14669.9\t361.17 \t62357.1\n",
      "70 \t456   \t8404.08\t14214.5\t361.17 \t52652  \n",
      "71 \t461   \t7882   \t13568  \t361.17 \t49949.5\n",
      "72 \t472   \t8913.05\t14573.3\t361.17 \t53062  \n",
      "73 \t460   \t8351.55\t14112.2\t361.17 \t54421.7\n",
      "74 \t465   \t7850.2 \t13536.1\t361.17 \t51671.7\n",
      "75 \t447   \t7261.89\t13148.1\t361.17 \t50537.1\n",
      "76 \t462   \t7915.3 \t13647.6\t361.17 \t52267.2\n",
      "77 \t457   \t9416.54\t14878.3\t361.17 \t56512  \n",
      "78 \t466   \t8547.07\t14226.7\t361.17 \t59571  \n",
      "79 \t472   \t8441.23\t13891.4\t361.17 \t54731.5\n",
      "80 \t473   \t9303.16\t14743.5\t361.17 \t52959.2\n",
      "81 \t466   \t8706.97\t14064.3\t361.17 \t51951  \n",
      "82 \t467   \t8400.92\t14150.1\t361.17 \t60402  \n",
      "83 \t465   \t8442.9 \t13667.6\t361.17 \t53393.1\n",
      "84 \t468   \t8328.56\t13869.9\t361.17 \t55938  \n",
      "85 \t459   \t7485.22\t13465.1\t361.17 \t61162.8\n",
      "86 \t471   \t7584.35\t14012.5\t361.17 \t61870.1\n",
      "87 \t471   \t9224.76\t15041.3\t361.17 \t57137.1\n",
      "88 \t473   \t8619.81\t13898.7\t361.17 \t51083.1\n",
      "89 \t459   \t8150.61\t13674.5\t361.17 \t53873.4\n",
      "90 \t468   \t8454.04\t13822.4\t361.17 \t50951  \n",
      "91 \t471   \t8441.68\t13828.2\t361.17 \t52052  \n",
      "92 \t454   \t8371.5 \t14416  \t361.17 \t56331  \n",
      "93 \t470   \t7879.51\t13472.1\t361.17 \t54259.3\n",
      "94 \t458   \t8502.99\t14748.6\t361.17 \t56627.2\n",
      "95 \t468   \t7271.85\t13308.7\t361.17 \t53852  \n",
      "96 \t455   \t7231.9 \t13153.4\t361.17 \t55123.4\n",
      "97 \t470   \t8697.58\t14011.9\t361.17 \t52531.5\n",
      "98 \t464   \t8059.69\t14073.8\t361.17 \t51052  \n",
      "99 \t474   \t7687.33\t13513.4\t361.17 \t51073.4\n",
      "100\t447   \t7771.87\t13587.7\t361.17 \t50751  \n",
      "101\t467   \t9783.32\t15094.4\t361.17 \t53511  \n",
      "102\t474   \t8933.99\t14273.8\t361.17 \t52931  \n",
      "103\t457   \t9509.42\t14436.8\t361.17 \t59252  \n",
      "104\t452   \t7815.68\t13824.5\t361.17 \t51737.1\n",
      "105\t468   \t8165.72\t14377  \t361.17 \t56452  \n",
      "106\t475   \t7897.37\t13671.5\t361.17 \t53181.7\n",
      "107\t474   \t8264.41\t13771.9\t361.17 \t52623.4\n",
      "108\t472   \t9740.97\t15231.6\t361.17 \t55852  \n",
      "109\t477   \t8965.61\t14665.3\t361.17 \t54738  \n",
      "110\t458   \t8345.72\t14325.5\t361.17 \t53371  \n",
      "111\t461   \t9270.79\t14505  \t361.17 \t54490.4\n",
      "112\t457   \t8397.63\t13923.5\t361.17 \t59471.7\n",
      "113\t462   \t7556.21\t13237  \t361.17 \t51733.1\n",
      "114\t480   \t9401.21\t14667.8\t361.17 \t56511  \n",
      "115\t475   \t8583.4 \t14125.5\t361.17 \t54574.4\n",
      "116\t470   \t8929.63\t14128.1\t361.17 \t50762  \n",
      "117\t467   \t8796.14\t14029  \t361.17 \t55273.4\n",
      "118\t466   \t10122.5\t15296.7\t361.17 \t59452  \n",
      "119\t451   \t9018.08\t14754.6\t361.17 \t53382  \n",
      "120\t465   \t8881.41\t14316.8\t361.17 \t52146.2\n",
      "121\t454   \t7910.01\t13526.4\t361.17 \t53723.4\n",
      "122\t472   \t10077.1\t15299.7\t361.17 \t57609.4\n",
      "123\t477   \t8595.51\t14284.1\t361.17 \t58559.4\n",
      "124\t472   \t8712.54\t14378.4\t361.17 \t53061  \n",
      "125\t475   \t8930.77\t14308.7\t361.17 \t53255.4\n",
      "126\t471   \t8502.44\t14314.1\t361.17 \t53797.6\n",
      "127\t476   \t9800.92\t15000.6\t361.17 \t53673.4\n",
      "128\t470   \t10079.5\t14618.7\t361.17 \t58871.7\n",
      "129\t459   \t8400.9 \t14180.2\t361.17 \t53131.7\n",
      "130\t470   \t7574.63\t13491.2\t361.17 \t48202  \n",
      "131\t468   \t8335.96\t14148.3\t361.17 \t57321  \n",
      "132\t473   \t8209.91\t13865.8\t361.17 \t55252  \n",
      "133\t473   \t8296.58\t13630.4\t361.17 \t53531  \n",
      "134\t463   \t9078.01\t14671.1\t361.17 \t52631.5\n",
      "135\t462   \t9105.96\t14322.1\t361.17 \t51351  \n",
      "136\t463   \t8281.48\t13831.6\t361.17 \t52002  \n",
      "137\t458   \t8870.6 \t14699  \t361.17 \t54559.2\n",
      "138\t454   \t7542.76\t13466.1\t361.17 \t54597.1\n",
      "139\t471   \t8404.52\t13999.9\t361.17 \t54394.1\n",
      "140\t461   \t9251.37\t14640.9\t361.17 \t54123.4\n",
      "141\t459   \t8985.8 \t14654.1\t361.17 \t51877.2\n",
      "142\t468   \t9045.04\t14701.4\t361.17 \t53887.1\n",
      "143\t468   \t7806.03\t13792.8\t361.17 \t55011.5\n",
      "144\t472   \t7964.88\t13708.2\t361.17 \t52301  \n",
      "145\t465   \t8308.86\t13986.4\t361.17 \t51077.2\n",
      "146\t466   \t7381.44\t12924.8\t361.17 \t54891.7\n",
      "147\t470   \t7966.62\t13514.2\t361.17 \t53240.4\n",
      "148\t475   \t7852.99\t13856.8\t361.17 \t49652  \n",
      "149\t470   \t9706   \t14991.5\t361.17 \t54287.1\n",
      "150\t471   \t7486.7 \t13249.8\t361.17 \t47619.5\n",
      "151\t468   \t8281.71\t13681.2\t361.17 \t51271.9\n",
      "152\t449   \t8257.28\t13853.3\t361.17 \t53719.3\n",
      "153\t460   \t7008.59\t12938.4\t361.17 \t54959.3\n",
      "154\t461   \t7291.72\t13535.8\t361.17 \t48261  \n",
      "155\t468   \t8730.84\t14614.6\t361.17 \t53347.9\n",
      "156\t465   \t9624.86\t15012.8\t361.17 \t57229.9\n",
      "157\t463   \t7757.24\t13450.4\t361.17 \t52351  \n",
      "158\t476   \t10269.6\t14919.7\t361.17 \t55821.7\n",
      "159\t463   \t8851.92\t13858.3\t361.17 \t51118.5\n",
      "160\t466   \t8560.37\t13827.1\t361.17 \t51510.3\n",
      "161\t451   \t8368.23\t13741  \t361.17 \t65652  \n",
      "162\t467   \t9680.65\t14645.4\t361.17 \t55937.1\n",
      "163\t456   \t7643.25\t12914.7\t361.17 \t50711.7\n",
      "164\t467   \t8761.44\t14123.3\t361.17 \t57252  \n",
      "165\t469   \t9035.06\t14617.2\t361.17 \t55027.2\n",
      "166\t457   \t8632.44\t14095.9\t361.17 \t53269.2\n",
      "167\t466   \t9880.23\t15088.5\t361.17 \t49743.4\n",
      "168\t472   \t9128.7 \t14417.8\t361.17 \t51902  \n",
      "169\t461   \t8953.66\t14341.4\t361.17 \t50833.4\n",
      "170\t470   \t8805.24\t14229.3\t361.17 \t52771.7\n",
      "171\t469   \t8716.01\t13999.5\t361.17 \t56171  \n",
      "172\t476   \t9525.78\t14980.2\t361.17 \t57974.4\n",
      "173\t472   \t9641.83\t14860.4\t361.17 \t56397.1\n",
      "174\t470   \t8384.74\t13672  \t361.17 \t51423.4\n",
      "175\t467   \t8472.1 \t13952.5\t361.17 \t54530.3\n",
      "176\t463   \t8966.99\t14360.7\t361.17 \t53303  \n",
      "177\t457   \t8992.52\t14253.7\t361.17 \t56240.4\n",
      "178\t461   \t8931.59\t14290.1\t361.17 \t59171  \n",
      "179\t471   \t8903.55\t14376.7\t361.17 \t55771.7\n",
      "180\t463   \t8449.23\t13980.3\t361.17 \t53440.4\n",
      "181\t462   \t8534.47\t13837.4\t361.17 \t55029.3\n",
      "182\t465   \t7735.78\t13605  \t361.17 \t55943.4\n",
      "183\t468   \t8261.69\t13970.6\t361.17 \t57749.5\n",
      "184\t455   \t8753.22\t14173.1\t361.17 \t55551  \n",
      "185\t463   \t8551.11\t13837.7\t361.17 \t58788  \n",
      "186\t472   \t9058.25\t14832.6\t361.17 \t61221.7\n",
      "187\t458   \t9059.35\t14728.6\t361.17 \t59259.3\n",
      "188\t476   \t8491   \t14067.6\t361.17 \t51971  \n",
      "189\t469   \t8910.7 \t14257.9\t361.17 \t50304.1\n",
      "190\t473   \t9481.15\t14402.2\t361.17 \t48859.3\n",
      "191\t474   \t8323.78\t13622.1\t361.17 \t49052  \n",
      "192\t478   \t7848.87\t13884.7\t361.17 \t49933.4\n",
      "193\t469   \t8112.99\t13782.4\t361.17 \t53371  \n",
      "194\t472   \t7389.24\t13474.7\t361.17 \t53151  \n",
      "195\t464   \t8950.56\t14437.4\t361.17 \t59672.7\n",
      "196\t470   \t7794.94\t13892.2\t361.17 \t55337.1\n",
      "197\t460   \t9427.06\t14890.9\t361.17 \t52311  \n",
      "198\t452   \t7657.45\t13197  \t361.17 \t47021.7\n",
      "199\t463   \t9449.02\t14802.4\t361.17 \t62871.7\n",
      "200\t458   \t7816.34\t13361.8\t361.17 \t50374.4\n",
      "201\t471   \t9055.3 \t14426.3\t361.17 \t53312  \n",
      "202\t473   \t8744.82\t13941.1\t361.17 \t50123.4\n",
      "203\t475   \t8050.82\t13582  \t361.17 \t51545.5\n",
      "204\t466   \t8101.59\t13477  \t361.17 \t51395.5\n",
      "205\t478   \t9177.69\t14326.3\t361.17 \t58452  \n",
      "206\t461   \t8563.63\t14263.2\t361.17 \t53252  \n",
      "207\t459   \t7708.66\t13487.4\t361.17 \t58450.5\n",
      "208\t458   \t9039.21\t14359.7\t361.17 \t52273.4\n",
      "209\t461   \t9265.26\t15368  \t361.17 \t62194.1\n",
      "210\t477   \t8172.86\t13997.1\t361.17 \t56060.2\n",
      "211\t457   \t9104.94\t14274.6\t361.17 \t48120.2\n",
      "212\t460   \t8177.78\t14126.1\t361.17 \t54951.7\n",
      "213\t469   \t9972.3 \t15012  \t361.17 \t47771  \n",
      "214\t473   \t8562.01\t14231.7\t361.17 \t55737.1\n",
      "215\t475   \t8617.53\t14179.9\t361.17 \t55579.1\n",
      "216\t461   \t8632.29\t14132.5\t361.17 \t52723.4\n",
      "217\t455   \t7859.86\t13715.4\t361.17 \t52558  \n",
      "218\t463   \t9969.19\t14725.9\t361.17 \t55459.4\n",
      "219\t458   \t8689.99\t14247.9\t361.17 \t52452  \n",
      "220\t463   \t8196.73\t13569.2\t361.17 \t54523.4\n",
      "221\t465   \t8468.78\t13917.1\t361.17 \t53211  \n",
      "222\t469   \t8240.46\t14102.2\t361.17 \t51652  \n",
      "223\t468   \t8266.08\t13723.4\t361.17 \t53762  \n",
      "224\t466   \t7977   \t13796.8\t361.17 \t55112  \n",
      "225\t465   \t9072.72\t14575.2\t361.17 \t48331.7\n",
      "226\t459   \t8722.59\t14231.4\t361.17 \t52323.4\n",
      "227\t469   \t8296.96\t13847.1\t361.17 \t58771  \n",
      "228\t462   \t7689.2 \t13593.9\t361.17 \t58673.4\n",
      "229\t477   \t8889.32\t14476.7\t361.17 \t63171  \n",
      "230\t457   \t8909.01\t14461.5\t361.17 \t49132.4\n",
      "231\t458   \t9067.42\t14619.7\t361.17 \t50771  \n",
      "232\t460   \t8589.45\t14323.8\t361.17 \t50203.1\n",
      "233\t451   \t8690.02\t14242.1\t361.17 \t53661  \n",
      "234\t469   \t7664.18\t13596.4\t361.17 \t52852  \n",
      "235\t456   \t8551.51\t14099.4\t361.17 \t61523.4\n",
      "236\t468   \t7740.18\t13286.4\t361.17 \t53168.8\n",
      "237\t454   \t7769.77\t14196.3\t361.17 \t61462  \n",
      "238\t454   \t8879.07\t14542.9\t361.17 \t53783.4\n",
      "239\t466   \t9742.09\t14975.3\t361.17 \t55988  \n",
      "240\t471   \t8362.82\t13600.2\t361.17 \t48041.7\n",
      "241\t459   \t8281.35\t14266.7\t361.17 \t55774.4\n",
      "242\t468   \t7787.06\t13458.3\t361.17 \t50271.7\n",
      "243\t471   \t7652.3 \t13277.2\t361.17 \t52280  \n",
      "244\t459   \t8472.11\t14205.9\t361.17 \t52623.4\n",
      "245\t462   \t8518.59\t14141.7\t361.17 \t50271.7\n",
      "246\t463   \t8523.62\t14487.7\t361.17 \t52623.4\n",
      "247\t463   \t10005.3\t14535.3\t361.17 \t53673.4\n",
      "248\t479   \t8326.35\t13852.3\t361.17 \t49541  \n",
      "249\t466   \t8592.79\t14098.9\t361.17 \t55072  \n",
      "250\t459   \t7693.64\t13229  \t361.17 \t51951  \n"
     ]
    }
   ]
  },
  {
   "cell_type": "code",
   "source": [
    "# Best result\n",
    "print(\"Best Individual - Order of points:\")\n",
    "print(hof[0])\n",
    "\n",
    "# Check for restriction function\n",
    "print(\"Restrictions check\")\n",
    "print(west_forbidden(hof[0]))\n",
    "print(west_penalty(hof[0]))\n",
    "\n",
    "\n",
    "# Objective function of best individual\n",
    "print(\"Best individual distance:\")\n",
    "distance_travelled(hof[0])"
   ],
   "metadata": {
    "colab": {
     "base_uri": "https://localhost:8080/"
    },
    "id": "SqasPeLE3O39",
    "outputId": "05532125-0458-4db1-a4fc-4e85273743b5",
    "ExecuteTime": {
     "end_time": "2024-03-21T15:53:09.167182900Z",
     "start_time": "2024-03-21T15:53:09.101659100Z"
    }
   },
   "execution_count": 174,
   "outputs": [
    {
     "name": "stdout",
     "output_type": "stream",
     "text": [
      "Best Individual - Order of points:\n",
      "[7, 4, 13, 9, 10, 8, 14, 5, 15, 6, 11, 3, 1, 0, 2, 12]\n",
      "Restrictions check\n",
      "True\n",
      "9600.0\n",
      "Best individual distance:\n"
     ]
    },
    {
     "data": {
      "text/plain": "(361.17019192919184,)"
     },
     "execution_count": 174,
     "metadata": {},
     "output_type": "execute_result"
    }
   ]
  },
  {
   "cell_type": "markdown",
   "source": [
    "## Ploting the order of points!"
   ],
   "metadata": {
    "id": "5EpYCeuC-bsO"
   }
  },
  {
   "cell_type": "code",
   "execution_count": 175,
   "outputs": [
    {
     "data": {
      "text/plain": "[7, 4, 13, 9, 10, 8, 14, 5, 15, 6, 11, 3, 1, 0, 2, 12]"
     },
     "execution_count": 175,
     "metadata": {},
     "output_type": "execute_result"
    }
   ],
   "source": [
    "hof[0]"
   ],
   "metadata": {
    "collapsed": false,
    "ExecuteTime": {
     "end_time": "2024-03-21T15:53:10.563732500Z",
     "start_time": "2024-03-21T15:53:10.537732900Z"
    }
   }
  },
  {
   "cell_type": "code",
   "source": [
    "hof_city = pd.DataFrame([[data_points['x'][index], data_points['y'][index]]  for index in hof[0]], columns=['x', 'y'])\n",
    "hof_city = hof_city._append(hof_city.iloc[0])\n",
    "hof_city"
   ],
   "metadata": {
    "colab": {
     "base_uri": "https://localhost:8080/",
     "height": 511
    },
    "id": "_SyuAhKP4lJM",
    "outputId": "e343b70b-4d7a-45f2-835d-fc0e1e24131d",
    "ExecuteTime": {
     "end_time": "2024-03-21T15:53:11.274410800Z",
     "start_time": "2024-03-21T15:53:11.243403100Z"
    }
   },
   "execution_count": 176,
   "outputs": [
    {
     "data": {
      "text/plain": "      x    y\n0    30   80\n1    40   80\n2    50   60\n3    50   80\n4    80  100\n5    80   60\n6    80   50\n7    90   50\n8   100   50\n9    80   40\n10   70   20\n11   40   30\n12   20   10\n13   10    0\n14   20   20\n15   30   50\n0    30   80",
      "text/html": "<div>\n<style scoped>\n    .dataframe tbody tr th:only-of-type {\n        vertical-align: middle;\n    }\n\n    .dataframe tbody tr th {\n        vertical-align: top;\n    }\n\n    .dataframe thead th {\n        text-align: right;\n    }\n</style>\n<table border=\"1\" class=\"dataframe\">\n  <thead>\n    <tr style=\"text-align: right;\">\n      <th></th>\n      <th>x</th>\n      <th>y</th>\n    </tr>\n  </thead>\n  <tbody>\n    <tr>\n      <th>0</th>\n      <td>30</td>\n      <td>80</td>\n    </tr>\n    <tr>\n      <th>1</th>\n      <td>40</td>\n      <td>80</td>\n    </tr>\n    <tr>\n      <th>2</th>\n      <td>50</td>\n      <td>60</td>\n    </tr>\n    <tr>\n      <th>3</th>\n      <td>50</td>\n      <td>80</td>\n    </tr>\n    <tr>\n      <th>4</th>\n      <td>80</td>\n      <td>100</td>\n    </tr>\n    <tr>\n      <th>5</th>\n      <td>80</td>\n      <td>60</td>\n    </tr>\n    <tr>\n      <th>6</th>\n      <td>80</td>\n      <td>50</td>\n    </tr>\n    <tr>\n      <th>7</th>\n      <td>90</td>\n      <td>50</td>\n    </tr>\n    <tr>\n      <th>8</th>\n      <td>100</td>\n      <td>50</td>\n    </tr>\n    <tr>\n      <th>9</th>\n      <td>80</td>\n      <td>40</td>\n    </tr>\n    <tr>\n      <th>10</th>\n      <td>70</td>\n      <td>20</td>\n    </tr>\n    <tr>\n      <th>11</th>\n      <td>40</td>\n      <td>30</td>\n    </tr>\n    <tr>\n      <th>12</th>\n      <td>20</td>\n      <td>10</td>\n    </tr>\n    <tr>\n      <th>13</th>\n      <td>10</td>\n      <td>0</td>\n    </tr>\n    <tr>\n      <th>14</th>\n      <td>20</td>\n      <td>20</td>\n    </tr>\n    <tr>\n      <th>15</th>\n      <td>30</td>\n      <td>50</td>\n    </tr>\n    <tr>\n      <th>0</th>\n      <td>30</td>\n      <td>80</td>\n    </tr>\n  </tbody>\n</table>\n</div>"
     },
     "execution_count": 176,
     "metadata": {},
     "output_type": "execute_result"
    }
   ]
  },
  {
   "cell_type": "code",
   "execution_count": 177,
   "outputs": [
    {
     "data": {
      "text/plain": "      x    y\n0    10    0\n1    20   10\n2    20   20\n3    40   30\n4    40   80\n5    90   50\n6    80   40\n7    30   80\n8    80   60\n9    50   80\n10   80  100\n11   70   20\n12   30   50\n13   50   60\n14   80   50\n15  100   50",
      "text/html": "<div>\n<style scoped>\n    .dataframe tbody tr th:only-of-type {\n        vertical-align: middle;\n    }\n\n    .dataframe tbody tr th {\n        vertical-align: top;\n    }\n\n    .dataframe thead th {\n        text-align: right;\n    }\n</style>\n<table border=\"1\" class=\"dataframe\">\n  <thead>\n    <tr style=\"text-align: right;\">\n      <th></th>\n      <th>x</th>\n      <th>y</th>\n    </tr>\n  </thead>\n  <tbody>\n    <tr>\n      <th>0</th>\n      <td>10</td>\n      <td>0</td>\n    </tr>\n    <tr>\n      <th>1</th>\n      <td>20</td>\n      <td>10</td>\n    </tr>\n    <tr>\n      <th>2</th>\n      <td>20</td>\n      <td>20</td>\n    </tr>\n    <tr>\n      <th>3</th>\n      <td>40</td>\n      <td>30</td>\n    </tr>\n    <tr>\n      <th>4</th>\n      <td>40</td>\n      <td>80</td>\n    </tr>\n    <tr>\n      <th>5</th>\n      <td>90</td>\n      <td>50</td>\n    </tr>\n    <tr>\n      <th>6</th>\n      <td>80</td>\n      <td>40</td>\n    </tr>\n    <tr>\n      <th>7</th>\n      <td>30</td>\n      <td>80</td>\n    </tr>\n    <tr>\n      <th>8</th>\n      <td>80</td>\n      <td>60</td>\n    </tr>\n    <tr>\n      <th>9</th>\n      <td>50</td>\n      <td>80</td>\n    </tr>\n    <tr>\n      <th>10</th>\n      <td>80</td>\n      <td>100</td>\n    </tr>\n    <tr>\n      <th>11</th>\n      <td>70</td>\n      <td>20</td>\n    </tr>\n    <tr>\n      <th>12</th>\n      <td>30</td>\n      <td>50</td>\n    </tr>\n    <tr>\n      <th>13</th>\n      <td>50</td>\n      <td>60</td>\n    </tr>\n    <tr>\n      <th>14</th>\n      <td>80</td>\n      <td>50</td>\n    </tr>\n    <tr>\n      <th>15</th>\n      <td>100</td>\n      <td>50</td>\n    </tr>\n  </tbody>\n</table>\n</div>"
     },
     "execution_count": 177,
     "metadata": {},
     "output_type": "execute_result"
    }
   ],
   "source": [
    "data_points"
   ],
   "metadata": {
    "collapsed": false,
    "ExecuteTime": {
     "end_time": "2024-03-21T15:53:11.938982400Z",
     "start_time": "2024-03-21T15:53:11.896983600Z"
    }
   }
  },
  {
   "cell_type": "code",
   "source": [
    "print(hof[0])\n",
    "print(distance_travelled(hof[0]))\n",
    "fig = plt.figure()\n",
    "ax = fig.add_subplot(111)\n",
    "plt.scatter(data_points['x'], data_points['y'])\n",
    "plt.plot(hof_city['x'], hof_city['y'], 'r')\n",
    "for index, (x,y) in enumerate(data_points.values):\n",
    "    ax.annotate(str(index), xy=(x,y))\n",
    "plt.plot(hof_city['x'][-2:], hof_city['y'][-2:], 'g')"
   ],
   "metadata": {
    "colab": {
     "base_uri": "https://localhost:8080/",
     "height": 447
    },
    "id": "k_yPx4nS4UgE",
    "outputId": "2a7d6a2f-c633-4f47-bb49-d80fc54fdfa6",
    "ExecuteTime": {
     "end_time": "2024-03-21T15:53:13.034147Z",
     "start_time": "2024-03-21T15:53:12.820131300Z"
    }
   },
   "execution_count": 178,
   "outputs": [
    {
     "name": "stdout",
     "output_type": "stream",
     "text": [
      "[7, 4, 13, 9, 10, 8, 14, 5, 15, 6, 11, 3, 1, 0, 2, 12]\n",
      "(361.17019192919184,)\n"
     ]
    },
    {
     "data": {
      "text/plain": "[<matplotlib.lines.Line2D at 0x1cefa987910>]"
     },
     "execution_count": 178,
     "metadata": {},
     "output_type": "execute_result"
    },
    {
     "data": {
      "text/plain": "<Figure size 640x480 with 1 Axes>",
      "image/png": "[encoded data removed]"
     },
     "metadata": {},
     "output_type": "display_data"
    }
   ]
  },
  {
   "cell_type": "code",
   "source": [],
   "metadata": {
    "id": "UQMG_2p04Zs0",
    "ExecuteTime": {
     "end_time": "2024-02-23T00:47:20.536408Z",
     "start_time": "2024-02-23T00:47:20.504866800Z"
    }
   },
   "execution_count": 73,
   "outputs": []
  }
 ]
}

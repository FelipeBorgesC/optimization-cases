{
 "nbformat": 4,
 "nbformat_minor": 0,
 "metadata": {
  "colab": {
   "provenance": []
  },
  "kernelspec": {
   "name": "python3",
   "language": "python",
   "display_name": "Python 3 (ipykernel)"
  },
  "language_info": {
   "name": "python"
  }
 },
 "cells": [
  {
   "cell_type": "markdown",
   "source": [
    "## Sea Navigation"
   ],
   "metadata": {
    "id": "Ere0SGGnxft0"
   }
  },
  {
   "cell_type": "code",
   "execution_count": 53,
   "metadata": {
    "id": "tD6R7I5axcI5",
    "ExecuteTime": {
     "end_time": "2024-02-23T00:47:07.836239100Z",
     "start_time": "2024-02-23T00:47:07.704244800Z"
    }
   },
   "outputs": [],
   "source": [
    "import pandas as pd\n",
    "import math\n",
    "from deap import base\n",
    "from deap import creator\n",
    "from deap import tools\n",
    "from deap import algorithms\n",
    "import numpy\n",
    "import random\n",
    "import copy\n",
    "import matplotlib.pyplot as plt"
   ]
  },
  {
   "cell_type": "code",
   "source": [
    "data_points = pd.read_csv('../sea_navigation.csv')\n",
    "data_points.head()"
   ],
   "metadata": {
    "colab": {
     "base_uri": "https://localhost:8080/",
     "height": 206
    },
    "id": "QAyblZuQxeD9",
    "outputId": "c3684e67-9e08-4488-9c5d-1f671bb3e17e",
    "ExecuteTime": {
     "end_time": "2024-02-23T00:47:07.968235900Z",
     "start_time": "2024-02-23T00:47:07.718248900Z"
    }
   },
   "execution_count": 54,
   "outputs": [
    {
     "data": {
      "text/plain": "    x   y\n0  10   0\n1  20  10\n2  20  20\n3  40  30\n4  40  80",
      "text/html": "<div>\n<style scoped>\n    .dataframe tbody tr th:only-of-type {\n        vertical-align: middle;\n    }\n\n    .dataframe tbody tr th {\n        vertical-align: top;\n    }\n\n    .dataframe thead th {\n        text-align: right;\n    }\n</style>\n<table border=\"1\" class=\"dataframe\">\n  <thead>\n    <tr style=\"text-align: right;\">\n      <th></th>\n      <th>x</th>\n      <th>y</th>\n    </tr>\n  </thead>\n  <tbody>\n    <tr>\n      <th>0</th>\n      <td>10</td>\n      <td>0</td>\n    </tr>\n    <tr>\n      <th>1</th>\n      <td>20</td>\n      <td>10</td>\n    </tr>\n    <tr>\n      <th>2</th>\n      <td>20</td>\n      <td>20</td>\n    </tr>\n    <tr>\n      <th>3</th>\n      <td>40</td>\n      <td>30</td>\n    </tr>\n    <tr>\n      <th>4</th>\n      <td>40</td>\n      <td>80</td>\n    </tr>\n  </tbody>\n</table>\n</div>"
     },
     "execution_count": 54,
     "metadata": {},
     "output_type": "execute_result"
    }
   ]
  },
  {
   "cell_type": "code",
   "source": [
    "data_points_list = data_points.values.tolist()\n",
    "data_points_list"
   ],
   "metadata": {
    "colab": {
     "base_uri": "https://localhost:8080/"
    },
    "id": "c4l8c3hcyEPF",
    "outputId": "982de4c7-638b-453e-e11b-47d09a48941a",
    "ExecuteTime": {
     "end_time": "2024-02-23T00:47:08.012235400Z",
     "start_time": "2024-02-23T00:47:07.733242Z"
    }
   },
   "execution_count": 55,
   "outputs": [
    {
     "data": {
      "text/plain": "[[10, 0],\n [20, 10],\n [20, 20],\n [40, 30],\n [40, 80],\n [90, 50],\n [80, 40],\n [30, 80],\n [80, 60],\n [50, 80],\n [80, 100],\n [70, 20],\n [30, 50],\n [50, 60],\n [80, 50],\n [100, 50]]"
     },
     "execution_count": 55,
     "metadata": {},
     "output_type": "execute_result"
    }
   ]
  },
  {
   "cell_type": "code",
   "source": [
    "len(data_points)"
   ],
   "metadata": {
    "colab": {
     "base_uri": "https://localhost:8080/"
    },
    "id": "-9Bty7xazIMP",
    "outputId": "ef086ae2-8d5f-4aa7-93c1-af2001606cbe",
    "ExecuteTime": {
     "end_time": "2024-02-23T00:47:08.013236600Z",
     "start_time": "2024-02-23T00:47:07.750246600Z"
    }
   },
   "execution_count": 56,
   "outputs": [
    {
     "data": {
      "text/plain": "16"
     },
     "execution_count": 56,
     "metadata": {},
     "output_type": "execute_result"
    }
   ]
  },
  {
   "cell_type": "markdown",
   "source": [
    "### Objective Functions"
   ],
   "metadata": {
    "id": "TiykPH1kyr5z"
   }
  },
  {
   "cell_type": "code",
   "source": [
    "def calculate_distance(origin_city, destiny_city):\n",
    "  X1 = origin_city[0]\n",
    "  Y1 = origin_city[1]\n",
    "  X2 = destiny_city[0]\n",
    "  Y2 = destiny_city[1]\n",
    "  return math.sqrt(((X1-X2)**2) + (Y1-Y2)**2)"
   ],
   "metadata": {
    "id": "VVa7xr9ew7D4",
    "ExecuteTime": {
     "end_time": "2024-02-23T00:47:08.014234800Z",
     "start_time": "2024-02-23T00:47:07.767241700Z"
    }
   },
   "execution_count": 57,
   "outputs": []
  },
  {
   "cell_type": "code",
   "source": [
    "def distance_travelled(individual_original):\n",
    "\n",
    "  individual = copy.deepcopy(individual_original)\n",
    "  individual.append(individual[0])\n",
    "  total_distance = 0\n",
    "\n",
    "  for index, city_number in enumerate(individual):\n",
    "    origin_city_points = data_points_list[city_number]\n",
    "    destiny_city_points = data_points_list[individual[index+1]]\n",
    "    total_distance += calculate_distance(origin_city_points, destiny_city_points)\n",
    "\n",
    "    if index == len(individual) - 2:\n",
    "      break\n",
    "\n",
    "  return total_distance,"
   ],
   "metadata": {
    "id": "FN9EbpxDxeIJ",
    "ExecuteTime": {
     "end_time": "2024-02-23T00:47:08.014234800Z",
     "start_time": "2024-02-23T00:47:07.780241200Z"
    }
   },
   "execution_count": 58,
   "outputs": []
  },
  {
   "cell_type": "code",
   "source": [
    "distance_travelled([0,1,2,13,15,9,7,11,10,8,6,14,12,3,4,5])"
   ],
   "metadata": {
    "colab": {
     "base_uri": "https://localhost:8080/"
    },
    "id": "fgmd7SyP0SB7",
    "outputId": "d7821616-a5e2-4156-e9a5-da3d52481aab",
    "ExecuteTime": {
     "end_time": "2024-02-23T00:47:08.014234800Z",
     "start_time": "2024-02-23T00:47:07.795241300Z"
    }
   },
   "execution_count": 59,
   "outputs": [
    {
     "data": {
      "text/plain": "(701.185462744394,)"
     },
     "execution_count": 59,
     "metadata": {},
     "output_type": "execute_result"
    }
   ]
  },
  {
   "cell_type": "markdown",
   "source": [
    "## Restrictions"
   ],
   "metadata": {
    "id": "3D98A4UWywFV"
   }
  },
  {
   "cell_type": "code",
   "source": [
    "def west_forbidden(individual_original):\n",
    "\n",
    "  individual = copy.deepcopy(individual_original)\n",
    "  individual.append(individual[0])\n",
    "\n",
    "  for index, city_number in enumerate(individual):\n",
    "    origin_city_points = data_points_list[city_number]\n",
    "    destiny_city_points = data_points_list[individual[index+1]]\n",
    "\n",
    "    if index == len(individual) - 2:\n",
    "      break\n",
    "\n",
    "    if origin_city_points[0] > destiny_city_points[0] and origin_city_points[1] == destiny_city_points[1]:\n",
    "      return False\n",
    "  return True"
   ],
   "metadata": {
    "id": "ANaYet9cxeKF",
    "ExecuteTime": {
     "end_time": "2024-02-23T00:47:08.015234300Z",
     "start_time": "2024-02-23T00:47:07.815241300Z"
    }
   },
   "execution_count": 60,
   "outputs": []
  },
  {
   "cell_type": "code",
   "source": [
    "west_forbidden([0,1,2,3,4,13,6,7,8,9,10,11,12,5,14,15])"
   ],
   "metadata": {
    "colab": {
     "base_uri": "https://localhost:8080/"
    },
    "id": "ngdJDOwHxeL3",
    "outputId": "d760dc3b-2fac-4d31-f925-99be5b377fc5",
    "ExecuteTime": {
     "end_time": "2024-02-23T00:47:08.016236600Z",
     "start_time": "2024-02-23T00:47:07.825240100Z"
    }
   },
   "execution_count": 61,
   "outputs": [
    {
     "data": {
      "text/plain": "False"
     },
     "execution_count": 61,
     "metadata": {},
     "output_type": "execute_result"
    }
   ]
  },
  {
   "cell_type": "code",
   "source": [
    "def west_penalty(individual_original):\n",
    "\n",
    "  west_penalty = 0\n",
    "  individual = copy.deepcopy(individual_original)\n",
    "  individual.append(individual[0])\n",
    "\n",
    "  for index, city_number in enumerate(individual):\n",
    "    origin_city_points = data_points_list[city_number]\n",
    "    destiny_city_points = data_points_list[individual[index+1]]\n",
    "\n",
    "    if origin_city_points[0] == destiny_city_points[0] and origin_city_points[1] < destiny_city_points[1]:\n",
    "      west_penalty += (calculate_distance(origin_city_points, destiny_city_points)) ** 2\n",
    "    else:\n",
    "      west_penalty += calculate_distance(origin_city_points, destiny_city_points)\n",
    "\n",
    "    if index == len(individual) - 2:\n",
    "      break\n",
    "\n",
    "  return west_penalty"
   ],
   "metadata": {
    "id": "tlj66rQU14ED",
    "ExecuteTime": {
     "end_time": "2024-02-23T00:47:08.016236600Z",
     "start_time": "2024-02-23T00:47:07.843249300Z"
    }
   },
   "execution_count": 62,
   "outputs": []
  },
  {
   "cell_type": "code",
   "source": [
    "west_penalty([0,1,2,3,4,13,6,7,8,9,10,11,12,5,14,15])"
   ],
   "metadata": {
    "colab": {
     "base_uri": "https://localhost:8080/"
    },
    "id": "Imagbg-32z_S",
    "outputId": "08625c6a-932c-4d43-9804-46571bb06b5d",
    "ExecuteTime": {
     "end_time": "2024-02-23T00:47:08.017238Z",
     "start_time": "2024-02-23T00:47:07.856238Z"
    }
   },
   "execution_count": 63,
   "outputs": [
    {
     "data": {
      "text/plain": "3208.4918027761755"
     },
     "execution_count": 63,
     "metadata": {},
     "output_type": "execute_result"
    }
   ]
  },
  {
   "cell_type": "markdown",
   "source": [
    "## DEAP Optimization Methods"
   ],
   "metadata": {
    "id": "fk2J-Gxly1iL"
   }
  },
  {
   "cell_type": "code",
   "source": [
    "import copy\n",
    "import random\n",
    "\n",
    "def uniform_based_order(individual_1, individual_2, shuffle_size=5):\n",
    "    \"\"\"\n",
    "    uniform based order crossover\n",
    "\n",
    "    :param individual_1:\n",
    "    :param individual_2:\n",
    "    :param shuffle_size:\n",
    "    :return: two children\n",
    "    \"\"\"\n",
    "\n",
    "    child_1 = copy.deepcopy(individual_1)\n",
    "    child_2 = copy.deepcopy(individual_2)\n",
    "\n",
    "    size = min(len(child_1), len(child_2))\n",
    "    if size < shuffle_size:\n",
    "        shuffle_size = size - 1\n",
    "\n",
    "    index = [*range(size)]\n",
    "    bit_mask = set(random.sample(index, shuffle_size))\n",
    "\n",
    "    shuffle_1 = [individual_1[idx] for idx in bit_mask]\n",
    "    shuffle_2 = [individual_2[idx] for idx in bit_mask]\n",
    "\n",
    "    inv_bit_mask = set(index) - bit_mask\n",
    "\n",
    "    parent1 = [individual_1[i] for i in inv_bit_mask]\n",
    "    parent2 = [individual_2[i] for i in inv_bit_mask]\n",
    "\n",
    "    order_shuffle_1 = set(shuffle_1)\n",
    "    order_shuffle_2 = set(shuffle_2)\n",
    "\n",
    "    can_shuffle = order_shuffle_1 & order_shuffle_2\n",
    "    remain_shuffle = order_shuffle_1 ^ order_shuffle_2\n",
    "\n",
    "    # create order from data\n",
    "    order_shuffle_1 = [x for x in shuffle_1 if x in can_shuffle]\n",
    "    order_shuffle_2 = [x for x in shuffle_2 if x in can_shuffle]\n",
    "\n",
    "    parent1 = [x for x in parent1 if x in remain_shuffle]\n",
    "    parent2 = [x for x in parent2 if x in remain_shuffle]\n",
    "\n",
    "    order_shuffle_1 += parent1\n",
    "    order_shuffle_2 += parent2\n",
    "\n",
    "    i = 0\n",
    "    for idx in bit_mask:\n",
    "        child_1[idx] = order_shuffle_2[i]\n",
    "        child_2[idx] = order_shuffle_1[i]\n",
    "        i += 1\n",
    "\n",
    "    return child_1, child_2"
   ],
   "metadata": {
    "id": "jrwH6oqwXpe8",
    "ExecuteTime": {
     "end_time": "2024-02-23T00:47:08.053231800Z",
     "start_time": "2024-02-23T00:47:07.874238700Z"
    }
   },
   "execution_count": 64,
   "outputs": []
  },
  {
   "cell_type": "code",
   "source": [
    "creator.create(\"FitnessMin\", base.Fitness, weights=(-1.0,))\n",
    "creator.create(\"Individual\", list, fitness=creator.FitnessMin)"
   ],
   "metadata": {
    "colab": {
     "base_uri": "https://localhost:8080/"
    },
    "id": "RtMAuo-CxeRN",
    "outputId": "ca603f57-20d0-425b-c6f5-4c98aa9ecdbc",
    "ExecuteTime": {
     "end_time": "2024-02-23T00:47:08.079234400Z",
     "start_time": "2024-02-23T00:47:07.887241900Z"
    }
   },
   "execution_count": 65,
   "outputs": [
    {
     "name": "stderr",
     "output_type": "stream",
     "text": [
      "C:\\Users\\borges\\AppData\\Local\\Programs\\Python\\optimization_cases\\lib\\site-packages\\deap\\creator.py:185: RuntimeWarning: A class named 'FitnessMin' has already been created and it will be overwritten. Consider deleting previous creation of that class or rename it.\n",
      "  warnings.warn(\"A class named '{0}' has already been created and it \"\n",
      "C:\\Users\\borges\\AppData\\Local\\Programs\\Python\\optimization_cases\\lib\\site-packages\\deap\\creator.py:185: RuntimeWarning: A class named 'Individual' has already been created and it will be overwritten. Consider deleting previous creation of that class or rename it.\n",
      "  warnings.warn(\"A class named '{0}' has already been created and it \"\n"
     ]
    }
   ]
  },
  {
   "cell_type": "code",
   "source": [
    "toolbox = base.Toolbox()\n",
    "toolbox.register(\"random_unique_int\", random.sample, range(0,len(data_points)), len(data_points))\n",
    "toolbox.register(\"individual\", tools.initIterate, creator.Individual, toolbox.random_unique_int)\n",
    "toolbox.register(\"population\", tools.initRepeat, list, toolbox.individual)\n",
    "toolbox.register(\"evaluate\", distance_travelled)\n",
    "toolbox.decorate(\"evaluate\", tools.DeltaPenalty(west_forbidden, 1, west_penalty))\n",
    "\n",
    "toolbox.register(\"mate\", tools.cxOrdered)\n",
    "toolbox.register(\"mutate\", tools.mutShuffleIndexes, indpb=0.3)\n",
    "toolbox.register(\"select\", tools.selTournament, tournsize=4)"
   ],
   "metadata": {
    "id": "YZaNbYLZy-ei",
    "ExecuteTime": {
     "end_time": "2024-02-23T00:47:08.079234400Z",
     "start_time": "2024-02-23T00:47:07.910238200Z"
    }
   },
   "execution_count": 66,
   "outputs": []
  },
  {
   "cell_type": "code",
   "source": [
    "pop = toolbox.population(n=500)\n",
    "hof = tools.HallOfFame(1)\n",
    "stats = tools.Statistics(lambda ind: ind.fitness.values)\n",
    "stats.register(\"avg\", numpy.mean)\n",
    "stats.register(\"std\", numpy.std)\n",
    "stats.register(\"min\", numpy.min)\n",
    "stats.register(\"max\", numpy.max)"
   ],
   "metadata": {
    "id": "z7lOXbRNzqgq",
    "ExecuteTime": {
     "end_time": "2024-02-23T00:47:08.079234400Z",
     "start_time": "2024-02-23T00:47:07.927237300Z"
    }
   },
   "execution_count": 67,
   "outputs": []
  },
  {
   "cell_type": "code",
   "source": [
    "pop, log = algorithms.eaSimple(pop, toolbox, cxpb=0.9, mutpb=0.3, ngen=250, stats=stats, halloffame=hof, verbose=True)"
   ],
   "metadata": {
    "colab": {
     "base_uri": "https://localhost:8080/"
    },
    "id": "cGfI4QaVzu59",
    "outputId": "e9a728ff-62e4-418b-d95c-6d2c653d4a0f",
    "ExecuteTime": {
     "end_time": "2024-02-23T00:47:20.212841100Z",
     "start_time": "2024-02-23T00:47:07.935237100Z"
    }
   },
   "execution_count": 68,
   "outputs": [
    {
     "name": "stdout",
     "output_type": "stream",
     "text": [
      "gen\tnevals\tavg    \tstd    \tmin    \tmax    \n",
      "0  \t500   \t1235.68\t1048.46\t587.408\t6827.91\n",
      "1  \t459   \t980.782\t721.662\t506.56 \t5559.61\n",
      "2  \t459   \t954.98 \t709.803\t540.841\t6878.24\n",
      "3  \t465   \t928.709\t720.475\t540.841\t6882.32\n",
      "4  \t466   \t936.972\t739.011\t528.601\t4663.55\n",
      "5  \t470   \t869.632\t575.675\t508.048\t4398.1 \n",
      "6  \t462   \t909.024\t702.944\t508.048\t6931.98\n",
      "7  \t466   \t848.431\t591.681\t454.606\t5659.6 \n",
      "8  \t462   \t911.13 \t755.735\t446.967\t7142.59\n",
      "9  \t469   \t971.222\t812.905\t446.967\t5805.38\n",
      "10 \t459   \t868.849\t718.836\t446.967\t6491.48\n",
      "11 \t454   \t888.389\t784.155\t434.01 \t6738.84\n",
      "12 \t469   \t845.535\t627.327\t434.01 \t4633.11\n",
      "13 \t461   \t867.531\t700.952\t430.286\t6888.77\n",
      "14 \t466   \t868.715\t743.453\t430.286\t5222.42\n",
      "15 \t476   \t880.72 \t745.407\t419.706\t5683.13\n",
      "16 \t458   \t885.155\t770.794\t422.238\t4968.95\n",
      "17 \t467   \t870.929\t745.939\t429.878\t4500.16\n",
      "18 \t456   \t839.322\t692.688\t423.844\t5131.66\n",
      "19 \t454   \t909.524\t851.662\t415.181\t6767.35\n",
      "20 \t463   \t873.331\t754.817\t388.04 \t4771.61\n",
      "21 \t455   \t867.763\t773.88 \t389.822\t5715.58\n",
      "22 \t462   \t845.27 \t748.474\t415.181\t4815.68\n",
      "23 \t463   \t804.175\t670.639\t407.116\t5311.83\n",
      "24 \t471   \t852.13 \t747.862\t406.507\t6579.28\n",
      "25 \t458   \t861.757\t738.145\t403.069\t4997.99\n",
      "26 \t470   \t782.664\t620.532\t418.888\t5266.61\n",
      "27 \t471   \t776.446\t610.553\t425.296\t4767.14\n",
      "28 \t456   \t830.755\t705.04 \t402.348\t5438.69\n",
      "29 \t462   \t731.864\t539.863\t396.694\t4364.28\n",
      "30 \t468   \t763.992\t684.668\t385.986\t6614.23\n",
      "31 \t470   \t824.519\t771.266\t364.986\t6647.57\n",
      "32 \t459   \t768.482\t631.082\t394.773\t4622.33\n",
      "33 \t460   \t768.962\t710.268\t388.337\t6916.82\n",
      "34 \t462   \t789.904\t693.711\t390.154\t5005.19\n",
      "35 \t453   \t744.273\t624.518\t391.144\t4336.76\n",
      "36 \t449   \t706.881\t570.287\t377.347\t4357.35\n",
      "37 \t475   \t777.626\t738.931\t377.347\t6046.01\n",
      "38 \t450   \t776.47 \t731.359\t377.347\t5698.62\n",
      "39 \t474   \t717.129\t694.064\t364.129\t6981.68\n",
      "40 \t470   \t708.597\t559.942\t364.129\t5588.28\n",
      "41 \t457   \t715.206\t610.801\t361.351\t5573.58\n",
      "42 \t451   \t664.179\t426.141\t364.986\t4121.99\n",
      "43 \t469   \t650.442\t448.781\t364.129\t4840.36\n",
      "44 \t464   \t659.524\t525.934\t353.139\t4340.37\n",
      "45 \t460   \t736.367\t695.284\t359.57 \t4450.58\n",
      "46 \t474   \t668.758\t589.937\t359.997\t5334.69\n",
      "47 \t467   \t674.452\t595.531\t349.454\t4194.95\n",
      "48 \t470   \t644.049\t492.039\t349.454\t4347.47\n",
      "49 \t475   \t654.024\t536.223\t349.454\t4242.62\n",
      "50 \t479   \t734.764\t775.071\t349.454\t6731.12\n",
      "51 \t463   \t710.753\t716.801\t349.454\t6921.02\n",
      "52 \t468   \t722.771\t744.3  \t349.454\t6532.77\n",
      "53 \t469   \t663.94 \t644.219\t349.454\t6919.49\n",
      "54 \t470   \t669.445\t623.366\t349.454\t4442.92\n",
      "55 \t475   \t658.628\t651.285\t349.454\t6743.7 \n",
      "56 \t475   \t635.54 \t618.756\t349.454\t4429.21\n",
      "57 \t456   \t598.124\t531.863\t349.454\t5649.02\n",
      "58 \t469   \t646.954\t588.632\t349.454\t4792.22\n",
      "59 \t468   \t598.889\t600.137\t349.454\t5686.34\n",
      "60 \t457   \t585.312\t532.665\t349.454\t4242.81\n",
      "61 \t467   \t577.334\t500.675\t349.454\t4700.71\n",
      "62 \t469   \t596.297\t647.474\t349.454\t6969.37\n",
      "63 \t466   \t596.211\t583.603\t349.454\t4735.8 \n",
      "64 \t462   \t548.436\t550.161\t349.454\t4414.86\n",
      "65 \t471   \t569.027\t590.502\t349.454\t4835.55\n",
      "66 \t479   \t527.366\t492.106\t349.454\t4799.83\n",
      "67 \t472   \t504.631\t448.69 \t349.454\t4404.94\n",
      "68 \t457   \t553.127\t572.794\t349.454\t5023.05\n",
      "69 \t451   \t510.006\t512.903\t349.454\t6011.24\n",
      "70 \t461   \t503.372\t438.763\t349.454\t4514.64\n",
      "71 \t467   \t539.947\t496.015\t349.454\t5188.77\n",
      "72 \t465   \t545.422\t598.592\t349.454\t6921.18\n",
      "73 \t462   \t505.979\t496.812\t349.454\t6806.65\n",
      "74 \t471   \t531.896\t529.657\t349.454\t4669.12\n",
      "75 \t474   \t514.516\t458.37 \t349.454\t4442.58\n",
      "76 \t472   \t565.56 \t600.184\t349.454\t6581.46\n",
      "77 \t467   \t559.056\t591.97 \t349.454\t6546.01\n",
      "78 \t459   \t503.809\t403.854\t349.454\t4782.37\n",
      "79 \t470   \t520.048\t437.922\t349.454\t4276.5 \n",
      "80 \t465   \t508.64 \t437.536\t349.454\t4224.82\n",
      "81 \t466   \t518.328\t505.186\t349.454\t4471.52\n",
      "82 \t458   \t515.407\t432.051\t349.454\t5620.83\n",
      "83 \t465   \t559.658\t561.836\t349.454\t5161.52\n",
      "84 \t458   \t532.186\t479.957\t349.454\t4411.84\n",
      "85 \t452   \t545.845\t540.488\t349.454\t4616.86\n",
      "86 \t472   \t561.148\t583.261\t349.454\t5207.54\n",
      "87 \t460   \t541.403\t541.735\t349.454\t6637.54\n",
      "88 \t467   \t588.824\t656.086\t349.454\t6208.3 \n",
      "89 \t449   \t510.379\t399.845\t349.454\t4444.57\n",
      "90 \t474   \t531.538\t470.958\t349.454\t5651.09\n",
      "91 \t466   \t568.289\t600.108\t349.454\t5568.29\n",
      "92 \t464   \t546.249\t513.839\t349.454\t5135.66\n",
      "93 \t458   \t534.419\t483.883\t349.454\t4316.01\n",
      "94 \t478   \t543.871\t468.805\t349.454\t4723.65\n",
      "95 \t462   \t536.844\t499.378\t349.454\t4462.36\n",
      "96 \t475   \t536.838\t480.552\t349.454\t4356.46\n",
      "97 \t465   \t566.956\t630.052\t349.454\t5965.01\n",
      "98 \t460   \t537.92 \t541.345\t349.454\t6804.14\n",
      "99 \t470   \t532.215\t463.175\t349.454\t3554.06\n",
      "100\t461   \t524.014\t505.516\t349.454\t4319.93\n",
      "101\t472   \t527.509\t503.709\t349.454\t4356.62\n",
      "102\t465   \t542.258\t514.404\t349.454\t5170.9 \n",
      "103\t470   \t564.758\t584.211\t349.454\t6652.62\n",
      "104\t482   \t559.673\t573.463\t349.454\t4973.95\n",
      "105\t459   \t506.512\t463.037\t349.454\t4188.16\n",
      "106\t466   \t534.738\t529.799\t349.454\t4329.07\n",
      "107\t449   \t530.103\t493.466\t349.454\t4429.5 \n",
      "108\t458   \t560.419\t601.913\t349.454\t6967.98\n",
      "109\t463   \t533.598\t427.219\t349.454\t4108.54\n",
      "110\t458   \t576.057\t573.26 \t349.454\t5447.78\n",
      "111\t461   \t528.869\t544.681\t349.454\t5666.8 \n",
      "112\t475   \t526.3  \t510.737\t349.454\t5683.41\n",
      "113\t463   \t526.839\t603.046\t349.454\t7610.31\n",
      "114\t466   \t495.818\t360.444\t349.454\t4115.72\n",
      "115\t472   \t567.118\t645.067\t349.454\t6776.97\n",
      "116\t464   \t531.028\t552.237\t349.454\t6766.53\n",
      "117\t463   \t531.903\t505.12 \t349.454\t4415.96\n",
      "118\t466   \t560.776\t631.314\t349.454\t6742.3 \n",
      "119\t471   \t555.399\t570.416\t349.454\t4507.89\n",
      "120\t469   \t556.804\t560.639\t349.454\t4399.49\n",
      "121\t454   \t512.198\t445.187\t349.454\t4485.3 \n",
      "122\t468   \t527.852\t438.469\t349.454\t4622.34\n",
      "123\t470   \t502.694\t371.102\t349.454\t4295.76\n",
      "124\t465   \t554.797\t557.987\t349.454\t4363.55\n",
      "125\t460   \t554.739\t589.082\t349.454\t6835.2 \n",
      "126\t456   \t507.891\t397.55 \t349.454\t4156.43\n",
      "127\t450   \t583.421\t661.007\t349.454\t5230.18\n",
      "128\t466   \t544.048\t567.198\t349.454\t5194.13\n",
      "129\t469   \t484.885\t446.354\t349.454\t7140.48\n",
      "130\t481   \t559.808\t650.428\t349.454\t6846.09\n",
      "131\t458   \t536.16 \t504.888\t349.454\t4312.84\n",
      "132\t464   \t533.453\t541.742\t349.454\t6864.58\n",
      "133\t462   \t521.303\t440.359\t349.454\t4232.22\n",
      "134\t470   \t544.732\t581.938\t349.454\t6796.82\n",
      "135\t460   \t545.821\t559.723\t349.454\t4488.86\n",
      "136\t469   \t539.455\t503.994\t349.454\t5092.35\n",
      "137\t478   \t579.059\t587.197\t349.454\t4637.23\n",
      "138\t462   \t524.127\t488.548\t349.454\t4412.71\n",
      "139\t463   \t571.268\t568.013\t349.454\t4402.77\n",
      "140\t470   \t537.887\t521.821\t349.454\t5648.86\n",
      "141\t461   \t573.115\t635.314\t349.454\t4885.24\n",
      "142\t459   \t525.977\t531.295\t349.454\t6610.83\n",
      "143\t467   \t507.437\t417.283\t349.454\t4004.76\n",
      "144\t462   \t542.914\t558.079\t349.454\t4722.75\n",
      "145\t467   \t555.617\t566.453\t349.454\t4348.55\n",
      "146\t477   \t558.952\t629.66 \t349.454\t5049.97\n",
      "147\t464   \t564.434\t633.623\t349.454\t6633.51\n",
      "148\t472   \t585.409\t646.633\t349.454\t4404.84\n",
      "149\t470   \t575.731\t558.117\t349.454\t4759.73\n",
      "150\t465   \t548.837\t579.302\t349.454\t5258.44\n",
      "151\t451   \t524.135\t429.4  \t349.454\t4062.26\n",
      "152\t452   \t506.931\t488.974\t349.454\t5015.02\n",
      "153\t467   \t569.249\t577.826\t349.454\t4665.59\n",
      "154\t467   \t505.743\t494.63 \t349.454\t4548.84\n",
      "155\t477   \t535.806\t563.773\t349.454\t6796.27\n",
      "156\t474   \t524.86 \t466.751\t349.454\t4462.54\n",
      "157\t468   \t556.182\t540.297\t349.454\t4474.95\n",
      "158\t455   \t531.3  \t491.335\t349.454\t5166.09\n",
      "159\t473   \t531.503\t522.689\t349.454\t4387.79\n",
      "160\t456   \t528.833\t480.223\t349.454\t5569.24\n",
      "161\t462   \t543.405\t596.565\t349.454\t6777.54\n",
      "162\t457   \t540.72 \t575.653\t349.454\t5715.81\n",
      "163\t473   \t500.033\t402.692\t349.454\t4750.59\n",
      "164\t473   \t559.988\t550.659\t349.454\t4371.3 \n",
      "165\t465   \t568.991\t603.506\t349.454\t5001.05\n",
      "166\t460   \t586.006\t645.314\t349.454\t4577.9 \n",
      "167\t468   \t519.212\t461.569\t349.454\t6903.5 \n",
      "168\t477   \t534.547\t532.025\t349.454\t4517.92\n",
      "169\t453   \t556.801\t619.939\t349.454\t6940.04\n",
      "170\t468   \t544.567\t514.488\t349.454\t4381.96\n",
      "171\t465   \t580.249\t653.817\t349.454\t6716.17\n",
      "172\t446   \t516.937\t492.571\t349.454\t4397.08\n",
      "173\t463   \t552.562\t549.031\t349.454\t5103.18\n",
      "174\t460   \t541.906\t549.557\t349.454\t4973.31\n",
      "175\t463   \t523.275\t496.752\t349.454\t4314.64\n",
      "176\t464   \t558.215\t547.547\t349.454\t4770.8 \n",
      "177\t470   \t523.218\t536.64 \t349.454\t6587.07\n",
      "178\t460   \t536.534\t552.131\t349.454\t4712.52\n",
      "179\t461   \t528.988\t484.832\t349.454\t5069.98\n",
      "180\t458   \t515.719\t463.458\t349.454\t4803.35\n",
      "181\t465   \t513.797\t556.616\t349.454\t6754.09\n",
      "182\t461   \t509.114\t438.354\t349.454\t4584.93\n",
      "183\t465   \t505.705\t448.458\t349.454\t4633.56\n",
      "184\t474   \t523.322\t458.34 \t349.454\t4147.88\n",
      "185\t459   \t535.385\t570.899\t349.454\t5650.77\n",
      "186\t472   \t524.344\t526.37 \t349.454\t4330.34\n",
      "187\t465   \t526.391\t523.251\t349.454\t5791.88\n",
      "188\t461   \t522.095\t451.549\t349.454\t4335.72\n",
      "189\t467   \t526.098\t478.969\t349.454\t4349.62\n",
      "190\t469   \t531.61 \t509.415\t349.454\t4641.41\n",
      "191\t470   \t500.13 \t386.28 \t349.454\t3415.8 \n",
      "192\t463   \t558.555\t628.652\t349.454\t6674.88\n",
      "193\t461   \t538.756\t615.862\t349.454\t7731.76\n",
      "194\t466   \t527.464\t506.664\t349.454\t5229.47\n",
      "195\t474   \t537.551\t525.806\t349.454\t7283.29\n",
      "196\t475   \t541.055\t551.85 \t349.454\t6839.85\n",
      "197\t457   \t535.965\t536.995\t349.454\t4500.73\n",
      "198\t470   \t562.104\t636.63 \t349.454\t6922.23\n",
      "199\t454   \t513.38 \t435.337\t349.454\t4729.89\n",
      "200\t455   \t508.667\t498.358\t349.454\t4384.71\n",
      "201\t468   \t511.052\t482.15 \t349.454\t6551.85\n",
      "202\t462   \t517.69 \t516.061\t349.454\t4347.25\n",
      "203\t468   \t528.523\t509.273\t349.454\t4871.59\n",
      "204\t469   \t538.151\t569.778\t349.454\t6666.66\n",
      "205\t454   \t539.966\t459.893\t349.454\t4394.95\n",
      "206\t467   \t509.374\t427.921\t349.454\t4179.49\n",
      "207\t454   \t512.443\t541.636\t349.454\t5736.56\n",
      "208\t464   \t585.944\t642.277\t349.454\t5186.31\n",
      "209\t468   \t544.541\t526.238\t349.454\t4267.88\n",
      "210\t466   \t525.06 \t514.901\t349.454\t4501.22\n",
      "211\t456   \t573.463\t625.822\t349.454\t4507.48\n",
      "212\t467   \t493.833\t372.412\t349.454\t4642.51\n",
      "213\t462   \t592.904\t644.046\t349.454\t4449.11\n",
      "214\t476   \t535.076\t465.336\t349.454\t4245.88\n",
      "215\t472   \t588.557\t673.677\t349.454\t6759.3 \n",
      "216\t467   \t573.11 \t673.885\t349.454\t6512.66\n",
      "217\t465   \t513.315\t411.22 \t349.454\t4395.46\n",
      "218\t474   \t531.56 \t467.597\t349.454\t4420   \n",
      "219\t461   \t525.405\t488.865\t349.454\t4796.99\n",
      "220\t454   \t541.74 \t514.833\t349.454\t5137.37\n",
      "221\t470   \t534.718\t523.132\t349.454\t4723.81\n",
      "222\t472   \t538.121\t535.877\t349.454\t6681.77\n",
      "223\t462   \t560.595\t558.915\t349.454\t4297.36\n",
      "224\t457   \t559.866\t548.599\t349.454\t6938.8 \n",
      "225\t465   \t532.714\t508.179\t349.454\t4408.73\n",
      "226\t454   \t541.914\t535.585\t349.454\t4341.34\n",
      "227\t461   \t565.837\t627.147\t349.454\t6546.06\n",
      "228\t453   \t524.539\t502.087\t349.454\t4661.95\n",
      "229\t462   \t535.179\t490.551\t349.454\t4264.56\n",
      "230\t471   \t493.968\t387.758\t349.454\t4093.28\n",
      "231\t478   \t521.46 \t479.739\t349.454\t4686.54\n",
      "232\t468   \t505.069\t418.056\t349.454\t4348.18\n",
      "233\t462   \t591.825\t672.098\t349.454\t6649.91\n",
      "234\t474   \t550.232\t602.294\t349.454\t4394.45\n",
      "235\t457   \t528.958\t483.894\t349.454\t4344.08\n",
      "236\t458   \t546.73 \t510.154\t349.454\t4312.52\n",
      "237\t465   \t515.09 \t440.559\t349.454\t4341.91\n",
      "238\t462   \t536.064\t535.405\t349.454\t4744.98\n",
      "239\t448   \t537.07 \t566.955\t349.454\t4617.03\n",
      "240\t464   \t487.59 \t348.652\t349.454\t3285.8 \n",
      "241\t470   \t555.84 \t625.709\t349.454\t5226.2 \n",
      "242\t455   \t534.446\t493.628\t349.454\t4288.09\n",
      "243\t463   \t483.599\t364.766\t349.454\t3766.9 \n",
      "244\t464   \t513.473\t498.28 \t349.454\t5216.28\n",
      "245\t466   \t537.975\t534.249\t349.454\t4354.93\n",
      "246\t461   \t530.761\t526.642\t349.454\t4930.75\n",
      "247\t470   \t544.351\t545.106\t349.454\t4371.55\n",
      "248\t463   \t538.274\t580.211\t349.454\t5687.9 \n",
      "249\t461   \t508.085\t439.324\t349.454\t4327.87\n",
      "250\t471   \t501.747\t400.996\t349.454\t4207.24\n"
     ]
    }
   ]
  },
  {
   "cell_type": "code",
   "source": [
    "# Best result\n",
    "print(\"Best Individual - Order of points:\")\n",
    "print(hof[0])\n",
    "\n",
    "# Check for restriction function\n",
    "print(\"Restrictions check\")\n",
    "print(west_forbidden(hof[0]))\n",
    "print(west_penalty(hof[0]))\n",
    "\n",
    "\n",
    "# Objective function of best individual\n",
    "print(\"Best individual distance:\")\n",
    "distance_travelled(hof[0])"
   ],
   "metadata": {
    "colab": {
     "base_uri": "https://localhost:8080/"
    },
    "id": "SqasPeLE3O39",
    "outputId": "05532125-0458-4db1-a4fc-4e85273743b5",
    "ExecuteTime": {
     "end_time": "2024-02-23T00:47:20.281835500Z",
     "start_time": "2024-02-23T00:47:20.209845500Z"
    }
   },
   "execution_count": 69,
   "outputs": [
    {
     "name": "stdout",
     "output_type": "stream",
     "text": [
      "Best Individual - Order of points:\n",
      "[4, 9, 10, 8, 14, 5, 15, 6, 11, 3, 1, 0, 2, 12, 13, 7]\n",
      "Restrictions check\n",
      "True\n",
      "349.4544631766538\n",
      "Best individual distance:\n"
     ]
    },
    {
     "data": {
      "text/plain": "(349.4544631766538,)"
     },
     "execution_count": 69,
     "metadata": {},
     "output_type": "execute_result"
    }
   ]
  },
  {
   "cell_type": "markdown",
   "source": [
    "## Ploting the order of points!"
   ],
   "metadata": {
    "id": "5EpYCeuC-bsO"
   }
  },
  {
   "cell_type": "code",
   "execution_count": 70,
   "outputs": [
    {
     "data": {
      "text/plain": "[4, 9, 10, 8, 14, 5, 15, 6, 11, 3, 1, 0, 2, 12, 13, 7]"
     },
     "execution_count": 70,
     "metadata": {},
     "output_type": "execute_result"
    }
   ],
   "source": [
    "hof[0]"
   ],
   "metadata": {
    "collapsed": false,
    "ExecuteTime": {
     "end_time": "2024-02-23T00:47:20.294838200Z",
     "start_time": "2024-02-23T00:47:20.226842300Z"
    }
   }
  },
  {
   "cell_type": "code",
   "source": [
    "hof_city = pd.DataFrame([[data_points['x'][index], data_points['y'][index]]  for index in hof[0]], columns=['x', 'y'])\n",
    "hof_city = hof_city._append(hof_city.iloc[0])\n",
    "hof_city"
   ],
   "metadata": {
    "colab": {
     "base_uri": "https://localhost:8080/",
     "height": 511
    },
    "id": "_SyuAhKP4lJM",
    "outputId": "e343b70b-4d7a-45f2-835d-fc0e1e24131d",
    "ExecuteTime": {
     "end_time": "2024-02-23T00:47:20.295838200Z",
     "start_time": "2024-02-23T00:47:20.240840500Z"
    }
   },
   "execution_count": 71,
   "outputs": [
    {
     "data": {
      "text/plain": "      x    y\n0    40   80\n1    50   80\n2    80  100\n3    80   60\n4    80   50\n5    90   50\n6   100   50\n7    80   40\n8    70   20\n9    40   30\n10   20   10\n11   10    0\n12   20   20\n13   30   50\n14   50   60\n15   30   80\n0    40   80",
      "text/html": "<div>\n<style scoped>\n    .dataframe tbody tr th:only-of-type {\n        vertical-align: middle;\n    }\n\n    .dataframe tbody tr th {\n        vertical-align: top;\n    }\n\n    .dataframe thead th {\n        text-align: right;\n    }\n</style>\n<table border=\"1\" class=\"dataframe\">\n  <thead>\n    <tr style=\"text-align: right;\">\n      <th></th>\n      <th>x</th>\n      <th>y</th>\n    </tr>\n  </thead>\n  <tbody>\n    <tr>\n      <th>0</th>\n      <td>40</td>\n      <td>80</td>\n    </tr>\n    <tr>\n      <th>1</th>\n      <td>50</td>\n      <td>80</td>\n    </tr>\n    <tr>\n      <th>2</th>\n      <td>80</td>\n      <td>100</td>\n    </tr>\n    <tr>\n      <th>3</th>\n      <td>80</td>\n      <td>60</td>\n    </tr>\n    <tr>\n      <th>4</th>\n      <td>80</td>\n      <td>50</td>\n    </tr>\n    <tr>\n      <th>5</th>\n      <td>90</td>\n      <td>50</td>\n    </tr>\n    <tr>\n      <th>6</th>\n      <td>100</td>\n      <td>50</td>\n    </tr>\n    <tr>\n      <th>7</th>\n      <td>80</td>\n      <td>40</td>\n    </tr>\n    <tr>\n      <th>8</th>\n      <td>70</td>\n      <td>20</td>\n    </tr>\n    <tr>\n      <th>9</th>\n      <td>40</td>\n      <td>30</td>\n    </tr>\n    <tr>\n      <th>10</th>\n      <td>20</td>\n      <td>10</td>\n    </tr>\n    <tr>\n      <th>11</th>\n      <td>10</td>\n      <td>0</td>\n    </tr>\n    <tr>\n      <th>12</th>\n      <td>20</td>\n      <td>20</td>\n    </tr>\n    <tr>\n      <th>13</th>\n      <td>30</td>\n      <td>50</td>\n    </tr>\n    <tr>\n      <th>14</th>\n      <td>50</td>\n      <td>60</td>\n    </tr>\n    <tr>\n      <th>15</th>\n      <td>30</td>\n      <td>80</td>\n    </tr>\n    <tr>\n      <th>0</th>\n      <td>40</td>\n      <td>80</td>\n    </tr>\n  </tbody>\n</table>\n</div>"
     },
     "execution_count": 71,
     "metadata": {},
     "output_type": "execute_result"
    }
   ]
  },
  {
   "cell_type": "code",
   "execution_count": 72,
   "outputs": [
    {
     "data": {
      "text/plain": "      x    y\n0    10    0\n1    20   10\n2    20   20\n3    40   30\n4    40   80\n5    90   50\n6    80   40\n7    30   80\n8    80   60\n9    50   80\n10   80  100\n11   70   20\n12   30   50\n13   50   60\n14   80   50\n15  100   50",
      "text/html": "<div>\n<style scoped>\n    .dataframe tbody tr th:only-of-type {\n        vertical-align: middle;\n    }\n\n    .dataframe tbody tr th {\n        vertical-align: top;\n    }\n\n    .dataframe thead th {\n        text-align: right;\n    }\n</style>\n<table border=\"1\" class=\"dataframe\">\n  <thead>\n    <tr style=\"text-align: right;\">\n      <th></th>\n      <th>x</th>\n      <th>y</th>\n    </tr>\n  </thead>\n  <tbody>\n    <tr>\n      <th>0</th>\n      <td>10</td>\n      <td>0</td>\n    </tr>\n    <tr>\n      <th>1</th>\n      <td>20</td>\n      <td>10</td>\n    </tr>\n    <tr>\n      <th>2</th>\n      <td>20</td>\n      <td>20</td>\n    </tr>\n    <tr>\n      <th>3</th>\n      <td>40</td>\n      <td>30</td>\n    </tr>\n    <tr>\n      <th>4</th>\n      <td>40</td>\n      <td>80</td>\n    </tr>\n    <tr>\n      <th>5</th>\n      <td>90</td>\n      <td>50</td>\n    </tr>\n    <tr>\n      <th>6</th>\n      <td>80</td>\n      <td>40</td>\n    </tr>\n    <tr>\n      <th>7</th>\n      <td>30</td>\n      <td>80</td>\n    </tr>\n    <tr>\n      <th>8</th>\n      <td>80</td>\n      <td>60</td>\n    </tr>\n    <tr>\n      <th>9</th>\n      <td>50</td>\n      <td>80</td>\n    </tr>\n    <tr>\n      <th>10</th>\n      <td>80</td>\n      <td>100</td>\n    </tr>\n    <tr>\n      <th>11</th>\n      <td>70</td>\n      <td>20</td>\n    </tr>\n    <tr>\n      <th>12</th>\n      <td>30</td>\n      <td>50</td>\n    </tr>\n    <tr>\n      <th>13</th>\n      <td>50</td>\n      <td>60</td>\n    </tr>\n    <tr>\n      <th>14</th>\n      <td>80</td>\n      <td>50</td>\n    </tr>\n    <tr>\n      <th>15</th>\n      <td>100</td>\n      <td>50</td>\n    </tr>\n  </tbody>\n</table>\n</div>"
     },
     "execution_count": 72,
     "metadata": {},
     "output_type": "execute_result"
    }
   ],
   "source": [
    "data_points"
   ],
   "metadata": {
    "collapsed": false,
    "ExecuteTime": {
     "end_time": "2024-02-23T00:47:20.296838800Z",
     "start_time": "2024-02-23T00:47:20.256838900Z"
    }
   }
  },
  {
   "cell_type": "code",
   "source": [
    "print(hof[0])\n",
    "print(distance_travelled(hof[0]))\n",
    "fig = plt.figure()\n",
    "ax = fig.add_subplot(111)\n",
    "plt.scatter(data_points['x'], data_points['y'])\n",
    "plt.plot(hof_city['x'], hof_city['y'], 'r')\n",
    "for index, (x,y) in enumerate(data_points.values):\n",
    "    ax.annotate(str(index), xy=(x,y))\n",
    "plt.plot(hof_city['x'][-2:], hof_city['y'][-2:], 'g')"
   ],
   "metadata": {
    "colab": {
     "base_uri": "https://localhost:8080/",
     "height": 447
    },
    "id": "k_yPx4nS4UgE",
    "outputId": "2a7d6a2f-c633-4f47-bb49-d80fc54fdfa6",
    "ExecuteTime": {
     "end_time": "2024-02-23T00:49:22.177974300Z",
     "start_time": "2024-02-23T00:49:21.962962800Z"
    }
   },
   "execution_count": 75,
   "outputs": [
    {
     "name": "stdout",
     "output_type": "stream",
     "text": [
      "[4, 9, 10, 8, 14, 5, 15, 6, 11, 3, 1, 0, 2, 12, 13, 7]\n",
      "(349.4544631766538,)\n"
     ]
    },
    {
     "data": {
      "text/plain": "[<matplotlib.lines.Line2D at 0x19d7d854640>]"
     },
     "execution_count": 75,
     "metadata": {},
     "output_type": "execute_result"
    },
    {
     "data": {
      "text/plain": "<Figure size 640x480 with 1 Axes>",
      "image/png": "[encoded data removed]"
     },
     "metadata": {},
     "output_type": "display_data"
    }
   ]
  },
  {
   "cell_type": "code",
   "source": [],
   "metadata": {
    "id": "UQMG_2p04Zs0",
    "ExecuteTime": {
     "end_time": "2024-02-23T00:47:20.536408Z",
     "start_time": "2024-02-23T00:47:20.504866800Z"
    }
   },
   "execution_count": 73,
   "outputs": []
  },
  {
   "cell_type": "code",
   "source": [],
   "metadata": {
    "id": "Lig4YrAjB22C",
    "ExecuteTime": {
     "end_time": "2024-02-23T00:47:20.537407200Z",
     "start_time": "2024-02-23T00:47:20.521410300Z"
    }
   },
   "execution_count": 73,
   "outputs": []
  }
 ]
}
